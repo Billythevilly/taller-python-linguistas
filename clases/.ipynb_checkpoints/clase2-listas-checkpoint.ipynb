{
 "cells": [
  {
   "cell_type": "markdown",
   "metadata": {},
   "source": [
    "# **Introducción a la lingüística computacional con Python**\n",
    "### Javier Vera Zúñiga, jveraz@pucp.edu.pe\n",
    "\n",
    "## Clase 2"
   ]
  },
  {
   "cell_type": "markdown",
   "metadata": {},
   "source": [
    "## (Repaso sobre) variables en Python\n",
    "Recapitulemos un poco. En las expresiones:\n",
    "```python\n",
    "palabra = 'Lima'\n",
    "```\n",
    "```python\n",
    "a = 1\n",
    "```\n",
    "el contenido que está a la derecha del signo \"=\" se asigna (respectivamente) a las variables \"palabra\" y \"a\". "
   ]
  },
  {
   "cell_type": "markdown",
   "metadata": {},
   "source": [
    "### Tipos de variables"
   ]
  },
  {
   "cell_type": "markdown",
   "metadata": {},
   "source": [
    "**1. Strings.**  Si tenemos dos variables de tipo string, por ejemplo,\n",
    "\n",
    "```python\n",
    "palabra1 = 'Lima'\n",
    "palabra2 = 'Santiago'\n",
    "```\n",
    "estamos diciendo que las variables \n",
    "\n",
    "```python\n",
    "palabra1 \n",
    "```\n",
    "y\n",
    "\n",
    "```python\n",
    "palabra2 = 'Santiago'\n",
    "```\n",
    "contienen, almacenan, indican o valen el string que está a la derecha del signo \"=\". **Recuerden!** El signo \"=\" nunca indica igualdad; es más bien una indicación de que lo que ocurre a la derecha de \"=\" se asigna a la variable que está a la izquierda de \"=\". En **Python**, las líneas de código se leen de arriba hacia abajo y de derecha a izquierda. Con estas ideas, podemos concatenarlos (pegarlas) usando:"
   ]
  },
  {
   "cell_type": "code",
   "execution_count": 6,
   "metadata": {},
   "outputs": [],
   "source": [
    "## dos variables de tipo string\n",
    "palabra1 = 'Lima'\n",
    "palabra2 = 'Santiago'\n",
    "\n",
    "## concatenamos los strings, y con esto definimos una nueva variable\n",
    "palabra3 = palabra1 + palabra2"
   ]
  },
  {
   "cell_type": "code",
   "execution_count": 7,
   "metadata": {},
   "outputs": [
    {
     "data": {
      "text/plain": [
       "'LimaSantiago'"
      ]
     },
     "execution_count": 7,
     "metadata": {},
     "output_type": "execute_result"
    }
   ],
   "source": [
    "palabra3"
   ]
  },
  {
   "cell_type": "markdown",
   "metadata": {},
   "source": [
    "**2. Números.** Los números tienen dos variantes:\n",
    "\n",
    "- **enteros** como 0, 1 o -342\n",
    "    ```python\n",
    "    a = 1\n",
    "    b = 2\n",
    "    ```\n",
    "- **reales** como 1.1 o -0.01\n",
    "    ```python\n",
    "    a = 1.1\n",
    "    b = -0.1\n",
    "    ```\n",
    "    \n",
    "Como es esperable, podemos sumar los números:\n",
    "\n",
    "```python\n",
    "suma = a + b\n",
    "```\n",
    "\n",
    "¿Qué es \"+\"? ¿Qué puede concluir? Pueden realizarse todas las operaciones posibles, pruebe usando \"*\" y \"/\""
   ]
  },
  {
   "cell_type": "code",
   "execution_count": 8,
   "metadata": {},
   "outputs": [],
   "source": [
    "a = 1"
   ]
  },
  {
   "cell_type": "code",
   "execution_count": 9,
   "metadata": {},
   "outputs": [],
   "source": [
    "b = 2"
   ]
  },
  {
   "cell_type": "code",
   "execution_count": 10,
   "metadata": {},
   "outputs": [],
   "source": [
    "suma = a + b"
   ]
  },
  {
   "cell_type": "code",
   "execution_count": 11,
   "metadata": {},
   "outputs": [
    {
     "data": {
      "text/plain": [
       "3"
      ]
     },
     "execution_count": 11,
     "metadata": {},
     "output_type": "execute_result"
    }
   ],
   "source": [
    "suma"
   ]
  },
  {
   "cell_type": "markdown",
   "metadata": {},
   "source": [
    "## Desafíos en clases"
   ]
  },
  {
   "cell_type": "markdown",
   "metadata": {},
   "source": [
    "**Mini desafío 1**"
   ]
  },
  {
   "cell_type": "code",
   "execution_count": 12,
   "metadata": {},
   "outputs": [],
   "source": [
    "## Encuentre el número de veces que aparece cada caracter de string_ciudad\n",
    "## Sume todas las veces que aparece cada caracter de string_ciudad\n",
    "## ¿A qué equivale esta suma?\n",
    "\n",
    "string_ciudad = 'Santiago'"
   ]
  },
  {
   "cell_type": "markdown",
   "metadata": {},
   "source": [
    "**Mini desafío 2**"
   ]
  },
  {
   "cell_type": "code",
   "execution_count": 13,
   "metadata": {},
   "outputs": [],
   "source": [
    "## 31 se escribe kimsa chunka huk-ni-yuq\n",
    "## 33 se escribe kimsa chunka kimsa-yuq\n",
    "## Reemplace caracteres para transformar un string en el otro\n",
    "\n",
    "string_31 = 'kimsa chunka huk-ni-yuq'\n",
    "string_33 = 'kimsa chunka kimsa-yuq'"
   ]
  },
  {
   "cell_type": "markdown",
   "metadata": {
    "id": "Z94xIrgS63k9"
   },
   "source": [
    "## Una primera mirada a las listas en **Python**\n",
    "\n",
    "Algunas ideas sobre textos en **Python.** Usemos un string para almacenar un **[texto](https://es.wikipedia.org/wiki/Ada_Lovelace)**"
   ]
  },
  {
   "cell_type": "code",
   "execution_count": 14,
   "metadata": {},
   "outputs": [],
   "source": [
    "## copiamos y pegamos una porción del texto del link\n",
    "\n",
    "texto = 'Augusta Ada King, condesa de Lovelace, registrada al nacer como Augusta Ada Byron y conocida habitualmente como Ada Lovelace, fue una matemática y escritora británica, célebre sobre todo por su trabajo acerca de la computadora mecánica de uso general de Charles Babbage, la denominada máquina analítica. Fue la primera en reconocer que la máquina tenía aplicaciones más allá del cálculo puro y en haber publicado lo que se reconoce hoy como el primer algoritmo destinado a ser procesado por una máquina, por lo que se la considera como la primera programadora de ordenadores.'"
   ]
  },
  {
   "cell_type": "code",
   "execution_count": 16,
   "metadata": {},
   "outputs": [
    {
     "data": {
      "text/plain": [
       "'Augusta Ada King, condesa de Lovelace, registrada al nacer como Augusta Ada Byron y conocida habitualmente como Ada Lovelace, fue una matemática y escritora británica, célebre sobre todo por su trabajo acerca de la computadora mecánica de uso general de Charles Babbage, la denominada máquina analítica. Fue la primera en reconocer que la máquina tenía aplicaciones más allá del cálculo puro y en haber publicado lo que se reconoce hoy como el primer algoritmo destinado a ser procesado por una máquina, por lo que se la considera como la primera programadora de ordenadores.'"
      ]
     },
     "execution_count": 16,
     "metadata": {},
     "output_type": "execute_result"
    }
   ],
   "source": [
    "texto"
   ]
  },
  {
   "cell_type": "markdown",
   "metadata": {},
   "source": [
    "Como **lingüistas computacionales**, podríamos preguntarnos varias cosas:\n",
    "    \n",
    "- ¿Qué es una **palabra** para un computador? \n",
    "- Dada una definición de palabra, ¿Cómo podemos **contar el número de veces** que aparece una palabra en un texto?\n",
    "- ¿Existe alguna **estructura** que permita **almacenar las palabras de un texto?**\n",
    "\n",
    "Los **textos**, como el ejemplo, **exhiben dos aspectos esenciales:**\n",
    "\n",
    "- Los espacios en blanco definen \"aproximadamente\" palabras; y\n",
    "- Las palabras aparecen secuencialmente, como en una temporalidad: existe una primera palabra, una segunda, y así sucesivamente. "
   ]
  },
  {
   "cell_type": "code",
   "execution_count": 15,
   "metadata": {},
   "outputs": [],
   "source": [
    "## usemos una función de los strings en Python\n",
    "\n",
    "## en esta línea, transformamos el string \"texto\" en una lista formada por los strings que aparecen al \"cortar\" por lo espacios\n",
    "## en blanco\n",
    "lista_desde_texto = texto.split(' ')"
   ]
  },
  {
   "cell_type": "code",
   "execution_count": 17,
   "metadata": {},
   "outputs": [
    {
     "data": {
      "text/plain": [
       "['Augusta',\n",
       " 'Ada',\n",
       " 'King,',\n",
       " 'condesa',\n",
       " 'de',\n",
       " 'Lovelace,',\n",
       " 'registrada',\n",
       " 'al',\n",
       " 'nacer',\n",
       " 'como',\n",
       " 'Augusta',\n",
       " 'Ada',\n",
       " 'Byron',\n",
       " 'y',\n",
       " 'conocida',\n",
       " 'habitualmente',\n",
       " 'como',\n",
       " 'Ada',\n",
       " 'Lovelace,',\n",
       " 'fue',\n",
       " 'una',\n",
       " 'matemática',\n",
       " 'y',\n",
       " 'escritora',\n",
       " 'británica,',\n",
       " 'célebre',\n",
       " 'sobre',\n",
       " 'todo',\n",
       " 'por',\n",
       " 'su',\n",
       " 'trabajo',\n",
       " 'acerca',\n",
       " 'de',\n",
       " 'la',\n",
       " 'computadora',\n",
       " 'mecánica',\n",
       " 'de',\n",
       " 'uso',\n",
       " 'general',\n",
       " 'de',\n",
       " 'Charles',\n",
       " 'Babbage,',\n",
       " 'la',\n",
       " 'denominada',\n",
       " 'máquina',\n",
       " 'analítica.',\n",
       " 'Fue',\n",
       " 'la',\n",
       " 'primera',\n",
       " 'en',\n",
       " 'reconocer',\n",
       " 'que',\n",
       " 'la',\n",
       " 'máquina',\n",
       " 'tenía',\n",
       " 'aplicaciones',\n",
       " 'más',\n",
       " 'allá',\n",
       " 'del',\n",
       " 'cálculo',\n",
       " 'puro',\n",
       " 'y',\n",
       " 'en',\n",
       " 'haber',\n",
       " 'publicado',\n",
       " 'lo',\n",
       " 'que',\n",
       " 'se',\n",
       " 'reconoce',\n",
       " 'hoy',\n",
       " 'como',\n",
       " 'el',\n",
       " 'primer',\n",
       " 'algoritmo',\n",
       " 'destinado',\n",
       " 'a',\n",
       " 'ser',\n",
       " 'procesado',\n",
       " 'por',\n",
       " 'una',\n",
       " 'máquina,',\n",
       " 'por',\n",
       " 'lo',\n",
       " 'que',\n",
       " 'se',\n",
       " 'la',\n",
       " 'considera',\n",
       " 'como',\n",
       " 'la',\n",
       " 'primera',\n",
       " 'programadora',\n",
       " 'de',\n",
       " 'ordenadores.']"
      ]
     },
     "execution_count": 17,
     "metadata": {},
     "output_type": "execute_result"
    }
   ],
   "source": [
    "## veamos qué hay adentro de lista_desde_texto\n",
    "## ¿Qué podemos observar?\n",
    "\n",
    "lista_desde_texto"
   ]
  },
  {
   "cell_type": "code",
   "execution_count": null,
   "metadata": {},
   "outputs": [],
   "source": []
  },
  {
   "cell_type": "markdown",
   "metadata": {
    "id": "Z94xIrgS63k9"
   },
   "source": [
    "En general, los lenguajes de programación ofrecen **estructuras** que almacenan información. En **Python**, todo (o casi) está organizado en torno a las **listas**, definidas como secuencias ordenadas de cosas (cualquier cosa, incluso otras listas). Podemos decir entonces que a **Python** le gustan las **listas** (entonces, a ustedes también). Esta estructura aparece en muchos lados como una manera de ordenar datos, y al mismo tiempo como una forma de iterar operaciones (repetir una tarea una cantidad definida de veces). \n",
    "\n",
    "Una buena estrategia para programar en **Python** es, casi siempre, responder ¿Puedo usar una lista para resolver este problema? Traten siempre de usar **listas** (si no, hay otras estructuras que veremos en las siguientes semanas). "
   ]
  },
  {
   "cell_type": "markdown",
   "metadata": {
    "id": "iy9gV5aa63k-"
   },
   "source": [
    "## Definiciones básicas"
   ]
  },
  {
   "cell_type": "code",
   "execution_count": 52,
   "metadata": {},
   "outputs": [
    {
     "data": {
      "text/plain": [
       "'Lima'"
      ]
     },
     "execution_count": 52,
     "metadata": {},
     "output_type": "execute_result"
    }
   ],
   "source": [
    "a"
   ]
  },
  {
   "cell_type": "code",
   "execution_count": 43,
   "metadata": {},
   "outputs": [],
   "source": [
    "lista_numeros = [a,b]"
   ]
  },
  {
   "cell_type": "code",
   "execution_count": 44,
   "metadata": {},
   "outputs": [
    {
     "data": {
      "text/plain": [
       "[1, 2]"
      ]
     },
     "execution_count": 44,
     "metadata": {},
     "output_type": "execute_result"
    }
   ],
   "source": [
    "lista_numeros"
   ]
  },
  {
   "cell_type": "code",
   "execution_count": 47,
   "metadata": {},
   "outputs": [],
   "source": [
    "a = 'Lima'\n",
    "b = 'Santiago'"
   ]
  },
  {
   "cell_type": "code",
   "execution_count": 48,
   "metadata": {},
   "outputs": [],
   "source": [
    "lista_ciudades = [a,b]"
   ]
  },
  {
   "cell_type": "code",
   "execution_count": 49,
   "metadata": {},
   "outputs": [
    {
     "data": {
      "text/plain": [
       "['Lima', 'Santiago']"
      ]
     },
     "execution_count": 49,
     "metadata": {},
     "output_type": "execute_result"
    }
   ],
   "source": [
    "lista_ciudades"
   ]
  },
  {
   "cell_type": "code",
   "execution_count": 37,
   "metadata": {
    "executionInfo": {
     "elapsed": 292,
     "status": "ok",
     "timestamp": 1629826806864,
     "user": {
      "displayName": "Javier Maximiliano Vera Zuñiga",
      "photoUrl": "",
      "userId": "16439660197950043005"
     },
     "user_tz": 240
    },
    "id": "T7RXrwbm63k_"
   },
   "outputs": [],
   "source": [
    "## definamos la lista A. Las listas se pueden definir vacías\n",
    "\n",
    "A = []\n",
    "\n",
    "## o bien con algún elemento adentro\n",
    "\n",
    "B = ['Lima','Santiago','Chiloé'] "
   ]
  },
  {
   "cell_type": "code",
   "execution_count": 38,
   "metadata": {
    "colab": {
     "base_uri": "https://localhost:8080/"
    },
    "executionInfo": {
     "elapsed": 256,
     "status": "ok",
     "timestamp": 1629826820809,
     "user": {
      "displayName": "Javier Maximiliano Vera Zuñiga",
      "photoUrl": "",
      "userId": "16439660197950043005"
     },
     "user_tz": 240
    },
    "id": "UjOhN679P44u",
    "outputId": "451f3494-68e2-4db0-8b27-f07835ed84f5"
   },
   "outputs": [
    {
     "data": {
      "text/plain": [
       "[]"
      ]
     },
     "execution_count": 38,
     "metadata": {},
     "output_type": "execute_result"
    }
   ],
   "source": [
    "A"
   ]
  },
  {
   "cell_type": "code",
   "execution_count": 39,
   "metadata": {
    "colab": {
     "base_uri": "https://localhost:8080/"
    },
    "executionInfo": {
     "elapsed": 240,
     "status": "ok",
     "timestamp": 1629571629538,
     "user": {
      "displayName": "Javier Maximiliano Vera Zuñiga",
      "photoUrl": "",
      "userId": "16439660197950043005"
     },
     "user_tz": 240
    },
    "id": "ABKSuq-F63k_",
    "outputId": "72e26ae7-e5a5-421a-8995-f47be6b937c5"
   },
   "outputs": [
    {
     "data": {
      "text/plain": [
       "['Lima', 'Santiago', 'Chiloé']"
      ]
     },
     "execution_count": 39,
     "metadata": {},
     "output_type": "execute_result"
    }
   ],
   "source": [
    "B"
   ]
  },
  {
   "cell_type": "code",
   "execution_count": 22,
   "metadata": {
    "id": "aM5VWgVD63lB"
   },
   "outputs": [],
   "source": [
    "## Si notan en las asignaciones anteriores, utilizamos el signo \"=\". En Python (y en muchos lenguajes), este signo \n",
    "## no indica \"igualdad\", sino algo más interesante: en \"A = []\", decimos \"lo que está a la derecha de \"=\" se asigna al nombre\n",
    "## \"A\"."
   ]
  },
  {
   "cell_type": "code",
   "execution_count": 55,
   "metadata": {},
   "outputs": [
    {
     "name": "stdout",
     "output_type": "stream",
     "text": [
      "0\n",
      "3\n"
     ]
    }
   ],
   "source": [
    "print(len(A))\n",
    "print(len(B))"
   ]
  },
  {
   "cell_type": "code",
   "execution_count": 24,
   "metadata": {},
   "outputs": [
    {
     "data": {
      "text/plain": [
       "3"
      ]
     },
     "execution_count": 24,
     "metadata": {},
     "output_type": "execute_result"
    }
   ],
   "source": [
    "len(B)"
   ]
  },
  {
   "cell_type": "code",
   "execution_count": 56,
   "metadata": {
    "colab": {
     "base_uri": "https://localhost:8080/"
    },
    "executionInfo": {
     "elapsed": 303,
     "status": "ok",
     "timestamp": 1629571718065,
     "user": {
      "displayName": "Javier Maximiliano Vera Zuñiga",
      "photoUrl": "",
      "userId": "16439660197950043005"
     },
     "user_tz": 240
    },
    "id": "kh5d_qYp63lD",
    "outputId": "29ac25a3-411b-4788-859d-86d2eeb780a9"
   },
   "outputs": [
    {
     "name": "stdout",
     "output_type": "stream",
     "text": [
      "0\n",
      "3\n"
     ]
    }
   ],
   "source": [
    "## Con \"len\", obtenemos el número de elementos que posee una lista\n",
    "\n",
    "print(len(A)) ## esto es esperable, A no tiene elementos\n",
    "print(len(B)) ## sabemos que B tiene tres elementos, inicialmente"
   ]
  },
  {
   "cell_type": "code",
   "execution_count": 59,
   "metadata": {
    "colab": {
     "base_uri": "https://localhost:8080/"
    },
    "executionInfo": {
     "elapsed": 213,
     "status": "ok",
     "timestamp": 1629571761394,
     "user": {
      "displayName": "Javier Maximiliano Vera Zuñiga",
      "photoUrl": "",
      "userId": "16439660197950043005"
     },
     "user_tz": 240
    },
    "id": "4sPdBzqD63lD",
    "outputId": "89ec2103-bc42-4fc9-807f-c56013f20e0b"
   },
   "outputs": [
    {
     "data": {
      "text/plain": [
       "('Lima', 'Santiago', 'Chiloé')"
      ]
     },
     "execution_count": 59,
     "metadata": {},
     "output_type": "execute_result"
    }
   ],
   "source": [
    "## la propiedad esencial de las listas es que están ordenadas!!!\n",
    "## por esta razón, tienen posiciones! Insisto: los elementos están asociados a un índice, que puede recorrerse\n",
    "## los índices comienzan en 0, o sea terminan en (largo de la lista - 1)\n",
    "\n",
    "B[0],B[1],B[2]"
   ]
  },
  {
   "cell_type": "code",
   "execution_count": 60,
   "metadata": {},
   "outputs": [
    {
     "data": {
      "text/plain": [
       "3"
      ]
     },
     "execution_count": 60,
     "metadata": {},
     "output_type": "execute_result"
    }
   ],
   "source": [
    "len(B)"
   ]
  },
  {
   "cell_type": "code",
   "execution_count": 61,
   "metadata": {},
   "outputs": [
    {
     "data": {
      "text/plain": [
       "'Chiloé'"
      ]
     },
     "execution_count": 61,
     "metadata": {},
     "output_type": "execute_result"
    }
   ],
   "source": [
    "B[2]"
   ]
  },
  {
   "cell_type": "code",
   "execution_count": 62,
   "metadata": {
    "colab": {
     "base_uri": "https://localhost:8080/",
     "height": 207
    },
    "executionInfo": {
     "elapsed": 211,
     "status": "error",
     "timestamp": 1629572125524,
     "user": {
      "displayName": "Javier Maximiliano Vera Zuñiga",
      "photoUrl": "",
      "userId": "16439660197950043005"
     },
     "user_tz": 240
    },
    "id": "1XZ3XZgQ63lG",
    "outputId": "e2be70e5-60e3-488b-b3e0-f7a82aab9d3e"
   },
   "outputs": [
    {
     "ename": "IndexError",
     "evalue": "list index out of range",
     "output_type": "error",
     "traceback": [
      "\u001b[1;31m---------------------------------------------------------------------------\u001b[0m",
      "\u001b[1;31mIndexError\u001b[0m                                Traceback (most recent call last)",
      "\u001b[1;32m<ipython-input-62-0c26308def07>\u001b[0m in \u001b[0;36m<module>\u001b[1;34m\u001b[0m\n\u001b[0;32m      1\u001b[0m \u001b[1;31m## ¿Qué pasa si imprimimos B[3]? ¿A[0]?\u001b[0m\u001b[1;33m\u001b[0m\u001b[1;33m\u001b[0m\u001b[1;33m\u001b[0m\u001b[0m\n\u001b[0;32m      2\u001b[0m \u001b[1;33m\u001b[0m\u001b[0m\n\u001b[1;32m----> 3\u001b[1;33m \u001b[0mA\u001b[0m\u001b[1;33m[\u001b[0m\u001b[1;36m0\u001b[0m\u001b[1;33m]\u001b[0m\u001b[1;33m\u001b[0m\u001b[1;33m\u001b[0m\u001b[0m\n\u001b[0m",
      "\u001b[1;31mIndexError\u001b[0m: list index out of range"
     ]
    }
   ],
   "source": [
    "## ¿Qué pasa si imprimimos B[3]? ¿A[0]?\n",
    "\n",
    "A[0]"
   ]
  },
  {
   "cell_type": "code",
   "execution_count": 63,
   "metadata": {
    "id": "u_b-UKu_63lH"
   },
   "outputs": [],
   "source": [
    "## si imprimimos la línea anterior, obtenemos un \"IndexError\". Es decir, Python nos dice que no existen elementos asociados a tales índices\n",
    "## noten que el máximo índice posible es \"largo de la lista menos 1\"!!!"
   ]
  },
  {
   "cell_type": "code",
   "execution_count": 64,
   "metadata": {
    "id": "0EIsqsZA63lI"
   },
   "outputs": [],
   "source": [
    "## => solo podemos imprimir los elementos en posiciones menores al largo\n",
    "\n",
    "b = len(B)\n",
    "a = len(A)"
   ]
  },
  {
   "cell_type": "code",
   "execution_count": 65,
   "metadata": {
    "colab": {
     "base_uri": "https://localhost:8080/"
    },
    "executionInfo": {
     "elapsed": 219,
     "status": "ok",
     "timestamp": 1629572167743,
     "user": {
      "displayName": "Javier Maximiliano Vera Zuñiga",
      "photoUrl": "",
      "userId": "16439660197950043005"
     },
     "user_tz": 240
    },
    "id": "2e6eU6Fx63lI",
    "outputId": "1480ccd3-c3c0-40e3-add7-f3a4c3f8df29"
   },
   "outputs": [
    {
     "name": "stdout",
     "output_type": "stream",
     "text": [
      "0\n",
      "3\n"
     ]
    }
   ],
   "source": [
    "print(a)\n",
    "print(b)"
   ]
  },
  {
   "cell_type": "code",
   "execution_count": 71,
   "metadata": {
    "id": "sQC_nd-k63lI"
   },
   "outputs": [],
   "source": [
    "## ahora, los enteros \"a\" y \"b\" tienen un espacio de memoria asignado que guarda los valores 0 y 3. Podemos utilizarlos \n",
    "## como queramos, por ejemplo\n",
    "\n",
    "numero_resultado = a+3/(2-b)"
   ]
  },
  {
   "cell_type": "code",
   "execution_count": 72,
   "metadata": {
    "colab": {
     "base_uri": "https://localhost:8080/"
    },
    "executionInfo": {
     "elapsed": 5,
     "status": "ok",
     "timestamp": 1629572175980,
     "user": {
      "displayName": "Javier Maximiliano Vera Zuñiga",
      "photoUrl": "",
      "userId": "16439660197950043005"
     },
     "user_tz": 240
    },
    "id": "L2OjN1S263lI",
    "outputId": "008a1def-fc04-4f3f-a63e-26fcf3bc8c0d"
   },
   "outputs": [
    {
     "data": {
      "text/plain": [
       "-3.0"
      ]
     },
     "execution_count": 72,
     "metadata": {},
     "output_type": "execute_result"
    }
   ],
   "source": [
    "numero_resultado"
   ]
  },
  {
   "cell_type": "markdown",
   "metadata": {
    "id": "oSUAP_3163lJ"
   },
   "source": [
    "## agreguemos elementos a listas! :) \n",
    "Las listas son como una **cola** de personas en las cajas de un supermercado. El primero que llega (si nadie se aprovecha) es el primero en ser atendido. Entonces, agregar elementos a una lista implica que estos queden al final "
   ]
  },
  {
   "cell_type": "code",
   "execution_count": 73,
   "metadata": {},
   "outputs": [
    {
     "data": {
      "text/plain": [
       "[]"
      ]
     },
     "execution_count": 73,
     "metadata": {},
     "output_type": "execute_result"
    }
   ],
   "source": [
    "A"
   ]
  },
  {
   "cell_type": "code",
   "execution_count": 91,
   "metadata": {
    "id": "95hNGEKE63lJ"
   },
   "outputs": [],
   "source": [
    "## ¿Agregar elementos? Sabemos el símbolo \"=\" no es \"igual\": indica que lo que está a la\n",
    "## derecha de \"=\" se asigna a lo que está a la izquierda de \"=\"\n",
    "## ¿Qué pasa si aprietan \"run\" muchas veces?\n",
    "\n",
    "A = A + ['chao']\n",
    "\n",
    "## Lo anterior es equivalente a:\n",
    "## A += ['chao']"
   ]
  },
  {
   "cell_type": "code",
   "execution_count": 92,
   "metadata": {
    "colab": {
     "base_uri": "https://localhost:8080/"
    },
    "executionInfo": {
     "elapsed": 202,
     "status": "ok",
     "timestamp": 1629572256232,
     "user": {
      "displayName": "Javier Maximiliano Vera Zuñiga",
      "photoUrl": "",
      "userId": "16439660197950043005"
     },
     "user_tz": 240
    },
    "id": "Jh6SmiuJ63lJ",
    "outputId": "258cabb5-af26-46a9-ab27-596ad1fa8e7c"
   },
   "outputs": [
    {
     "data": {
      "text/plain": [
       "['chao', 'chao', 'chao', 'chao', 'chao', 'chao', 'chao', 'chao', 'chao']"
      ]
     },
     "execution_count": 92,
     "metadata": {},
     "output_type": "execute_result"
    }
   ],
   "source": [
    "A"
   ]
  },
  {
   "cell_type": "code",
   "execution_count": 42,
   "metadata": {
    "id": "jKdcMjyi63lJ"
   },
   "outputs": [],
   "source": [
    "## el símbolo \"+\" indica \"concatenación\", y se usa en muchos contextos!. Noten que para agregar 'hola' a A, es necesario que \n",
    "##'hola' esté adentro de una lista, es decir ['hola']. En general, podemos concatenar (usando \"+\") elementos del mismo tipo. \n",
    "## Prueben la siguiente asignación y miren el error!"
   ]
  },
  {
   "cell_type": "code",
   "execution_count": 43,
   "metadata": {
    "colab": {
     "base_uri": "https://localhost:8080/",
     "height": 171
    },
    "executionInfo": {
     "elapsed": 213,
     "status": "error",
     "timestamp": 1629572274979,
     "user": {
      "displayName": "Javier Maximiliano Vera Zuñiga",
      "photoUrl": "",
      "userId": "16439660197950043005"
     },
     "user_tz": 240
    },
    "id": "Hvb0p7TC63lK",
    "outputId": "0e55d87a-f62a-41be-e1f5-2488bc826f9c"
   },
   "outputs": [
    {
     "ename": "TypeError",
     "evalue": "can only concatenate list (not \"str\") to list",
     "output_type": "error",
     "traceback": [
      "\u001b[1;31m---------------------------------------------------------------------------\u001b[0m",
      "\u001b[1;31mTypeError\u001b[0m                                 Traceback (most recent call last)",
      "\u001b[1;32m~\\AppData\\Local\\Temp/ipykernel_11660/2788445238.py\u001b[0m in \u001b[0;36m<module>\u001b[1;34m\u001b[0m\n\u001b[1;32m----> 1\u001b[1;33m \u001b[0mA\u001b[0m \u001b[1;33m=\u001b[0m \u001b[0mA\u001b[0m \u001b[1;33m+\u001b[0m \u001b[1;34m'hola'\u001b[0m\u001b[1;33m\u001b[0m\u001b[1;33m\u001b[0m\u001b[0m\n\u001b[0m",
      "\u001b[1;31mTypeError\u001b[0m: can only concatenate list (not \"str\") to list"
     ]
    }
   ],
   "source": [
    "A = A + 'hola'"
   ]
  },
  {
   "cell_type": "code",
   "execution_count": 44,
   "metadata": {
    "colab": {
     "base_uri": "https://localhost:8080/"
    },
    "executionInfo": {
     "elapsed": 221,
     "status": "ok",
     "timestamp": 1629572280246,
     "user": {
      "displayName": "Javier Maximiliano Vera Zuñiga",
      "photoUrl": "",
      "userId": "16439660197950043005"
     },
     "user_tz": 240
    },
    "id": "gW94ktps63lK",
    "outputId": "ba0b4206-7d4a-4ff6-e6f3-e2ec72aec07b"
   },
   "outputs": [
    {
     "data": {
      "text/plain": [
       "['chao']"
      ]
     },
     "execution_count": 44,
     "metadata": {},
     "output_type": "execute_result"
    }
   ],
   "source": [
    "## miremos A\n",
    "\n",
    "A"
   ]
  }
 ],
 "metadata": {
  "colab": {
   "name": "semana-1.ipynb",
   "provenance": []
  },
  "kernelspec": {
   "display_name": "Python 3",
   "language": "python",
   "name": "python3"
  },
  "language_info": {
   "codemirror_mode": {
    "name": "ipython",
    "version": 3
   },
   "file_extension": ".py",
   "mimetype": "text/x-python",
   "name": "python",
   "nbconvert_exporter": "python",
   "pygments_lexer": "ipython3",
   "version": "3.8.8"
  }
 },
 "nbformat": 4,
 "nbformat_minor": 1
}
