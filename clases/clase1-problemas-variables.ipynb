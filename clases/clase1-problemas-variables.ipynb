{
 "cells": [
  {
   "cell_type": "markdown",
   "metadata": {
    "id": "Bonrs-i763k3"
   },
   "source": [
    "# **Introducción a la lingüística computacional con Python**\n",
    "### Javier Vera Zúñiga, jveraz@pucp.edu.pe\n",
    "\n",
    "## Clase 1\n",
    "\n",
    "En este taller, nos dedicaremos a dar **respuestas parciales** (pero no menos interesantes) a las siguientes **preguntas** mediante **Python**:\n",
    "\n",
    "1. ¿De qué forma podemos implementar un programa que sea capaz de transformar números enteros en palabras de una lengua peruana, por ejemplo 57 en pichqa chunka qanchis-ni-yuq?\n",
    "2. ¿Cómo podemos contar la cantidad de veces que aparece una palabra en un texto? ¿Qué nos dice estos sobre la forma en que se organizan las frecuencias de palabras?\n",
    "\n",
    "Para responder estas preguntas, necesitamos introducir elementos de programación tales como:\n",
    "\n",
    "- la forma en que Python nombra elementos, **variables, enteros, strings**\n",
    "- algunas estructuras que nos permitan guardar información, **listas**\n",
    "- formas de recorrer estas estructuras, **ciclos for**\n",
    "- maneras de expresar condiciones del tipo si-entonces, **if-else**\n",
    "\n",
    "Para este taller, la **lingüística computacional** se entenderá como la disciplina que surge a partir de las interacciones, interferencias y cuestionamientos entre computación y lingüística. Un aspecto fundamental es que estos cruces no solo son importantes para los linguistas (o los informáticos), sino que para cualquier persona interesada en **procesar** información lingüística. Esto nos abre dos caminos interrelacionados. Primero, el taller mostrará elementos de programación en Python que podrían ser utilizados en problemas de lingüística computacional. Segundo (y quizás lo más importante), el taller busca abrir la mirada hacia nuevas preguntas que surjan desde las nociones básicas de programación en **Python**. "
   ]
  },
  {
   "cell_type": "markdown",
   "metadata": {
    "id": "Bonrs-i763k3"
   },
   "source": [
    "### Contenidos!\n",
    "\n",
    "**Clase 1** - jueves 29 de septiembre\n",
    "\n",
    "- **Ideas** sobre **lingüística computacional**\n",
    "- **Preguntas** que abordaremos en el taller: \n",
    "    - ¿De qué forma podemos implementar un programa que sea capaz de transformar números enteros en palabras de una lengua peruana, por ejemplo **57** en **pichqa chunka qanchis-ni-yuq**? [link](https://javiervz-quechua-quechua-zkxp9n.streamlitapp.com/)\n",
    "    - ¿Cómo podemos contar la cantidad de veces que aparece una palabra en un texto? ¿Qué nos dice esto sobre la existencia de patrones de frecuencias de palabras?\n",
    "- **Variables:** \n",
    "    - ¿Qué es un número?\n",
    "    - ¿Qué es un string?\n",
    "    - operaciones básicas con números y strings\n",
    "\n",
    "**Clase 2** - jueves 6 de octubre\n",
    "\n",
    "- **Listas:** \n",
    "    - relaciones entre filas de supermercado y textos\n",
    "    - ¿Cómo almacenamos las palabras de un texto? ¿Cómo almacenamos números?\n",
    "    - operaciones básicas con listas (y con textos)\n",
    "    \n",
    "    \n",
    "**Clase 3** - jueves 13 de octubre\n",
    "\n",
    "- **Ciclo for**\n",
    "    - relaciones entre listas y ciclos for\n",
    "    - ciclos for como listas: ejemplos básicos\n",
    "    - ¿Cómo encontramos las palabras únicas de un texto?\n",
    "    - listas y el problema de asociar un número entero con su expresión en palabras\n",
    "    \n",
    "    \n",
    "**Clase 4** - jueves 20 de octubre\n",
    "\n",
    "- **Nociones de lógica en Python**\n",
    "    - lógica básica y reglas morfológicas\n",
    "    - condiciones if-else\n",
    "    - ¿Cuántas palabras tiene un texto?\n",
    "    - condiciones if-else en la expresión de números en Quechua\n",
    "    \n",
    "    \n",
    "**Clase 5** - jueves 27 de octubre\n",
    "\n",
    "* ¿Cómo construimos un generador de números en Quechua?\n",
    "* ¿De qué forma se pueden analizar los patrones de frecuencias de palabras de un texto?"
   ]
  },
  {
   "cell_type": "markdown",
   "metadata": {},
   "source": [
    "## ¿Dónde programamos en **Python**?\n",
    "- En otro computador [colab!](https://colab.research.google.com/)\n",
    "- En mi computador propio [anaconda!](https://www.anaconda.com/products/distribution)\n",
    "\n",
    "¿Cuál opción es mejor?"
   ]
  },
  {
   "cell_type": "markdown",
   "metadata": {},
   "source": [
    "## ¿Cómo aprendemos a programar en **Python**?\n",
    "- PROGRAMANDO! :)\n",
    "- Equivocándose\n",
    "- Buscando en internet\n",
    "- Viendo videos de youtube\n",
    "- Teniendo un propósito definido\n",
    "- Preguntando\n",
    "\n",
    "En resumen!!! hay que tener una postura activa, que busque resolver problemas simples (que sumados resuelven problemas más complejos)"
   ]
  },
  {
   "cell_type": "markdown",
   "metadata": {},
   "source": [
    "## (Jupyter) notebooks y tipos de celdas\n",
    "Existen celdas de texto o markdown, como esta misma, en donde podemos escribir texto (e incluso código como texto). "
   ]
  },
  {
   "cell_type": "code",
   "execution_count": 1,
   "metadata": {},
   "outputs": [],
   "source": [
    "## y celdas de código, como esta otra. En las celdas de código el signo \"#\" indica un comentario. Los comentarios son algo\n",
    "## MUY importante en programación: \n",
    "#### - permiten comentar qué estamos haciendo; y por sobre todo\n",
    "#### - cómo lo estamos haciendo\n",
    "## El ideal es que cada línea de código tenga un comentario!\n",
    "\n",
    "## una pequeña porción de código de ejemplo: a vale 1\n",
    "a = 1"
   ]
  },
  {
   "cell_type": "code",
   "execution_count": 2,
   "metadata": {},
   "outputs": [
    {
     "data": {
      "text/plain": [
       "1"
      ]
     },
     "execution_count": 2,
     "metadata": {},
     "output_type": "execute_result"
    }
   ],
   "source": [
    "a"
   ]
  },
  {
   "cell_type": "markdown",
   "metadata": {},
   "source": [
    "## Variables en Python\n",
    "\n",
    "### Asuntos básicos de variables\n",
    "En la expresiones\n",
    "```python\n",
    "palabra = 'Lima'\n",
    "```\n",
    "y \n",
    "\n",
    "```python\n",
    "numero = 57\n",
    "```\n",
    "\n",
    "el contenido _Lima_ y _57_ se asigna a nombres específicos, que llamaremos **variables.**"
   ]
  },
  {
   "cell_type": "code",
   "execution_count": 3,
   "metadata": {},
   "outputs": [],
   "source": [
    "## definimos las variables en una celda de código!\n",
    "\n",
    "## variable tipo string\n",
    "palabra = 'Lima'\n",
    "\n",
    "## variable tipo número (entero)\n",
    "numero = 57"
   ]
  },
  {
   "cell_type": "code",
   "execution_count": 4,
   "metadata": {},
   "outputs": [
    {
     "data": {
      "text/plain": [
       "'Lima'"
      ]
     },
     "execution_count": 4,
     "metadata": {},
     "output_type": "execute_result"
    }
   ],
   "source": [
    "## vemos qué hay adentro de la variable \"palabra\"\n",
    "\n",
    "palabra"
   ]
  },
  {
   "cell_type": "code",
   "execution_count": 5,
   "metadata": {},
   "outputs": [
    {
     "data": {
      "text/plain": [
       "57"
      ]
     },
     "execution_count": 5,
     "metadata": {},
     "output_type": "execute_result"
    }
   ],
   "source": [
    "## vemos qué hay adentro de la variable \"numero\"\n",
    "\n",
    "numero"
   ]
  },
  {
   "cell_type": "markdown",
   "metadata": {},
   "source": [
    "Las **variables** (ya sean números, strings o listas (como veremos)) tienen características poderosas:\n",
    "\n",
    "* Son **variables**, es decir, pueden variar en su contenido\n",
    "* El **tipo de variable** cambia el significado de las oraciones. Aquí hay un poco de magia.  \n",
    "* La **asignación ocurre de derecha a izquierda:** el signo \"=\" **NO** indica igualdad, sino que el hecho de que se está asignando lo que está a la derecha en la variable de la izquierda\n",
    "\n",
    "y algunas **recomendaciones:**\n",
    "\n",
    "* elijan nombres informativos, breves y que indiquen alguna información sobre el tipo de variable: NO elijan 837383838aux o variable o var\n",
    "* respeten cuidadosamente los espacios, eso facilita la lectura\n",
    "* usen comentarios cada vez que definan una variable: qué es, qué contiene"
   ]
  },
  {
   "cell_type": "code",
   "execution_count": 6,
   "metadata": {},
   "outputs": [],
   "source": [
    "## ¿en qué sentido son variables? Asignemos nuevamente las variables palabra y numero\n",
    "\n",
    "## nueva asignación de la variable tipo string\n",
    "palabra = 'Santiago'\n",
    "\n",
    "## nueva asignación de la variable tipo número (entero)\n",
    "numero = 34"
   ]
  },
  {
   "cell_type": "code",
   "execution_count": 7,
   "metadata": {},
   "outputs": [
    {
     "data": {
      "text/plain": [
       "34"
      ]
     },
     "execution_count": 7,
     "metadata": {},
     "output_type": "execute_result"
    }
   ],
   "source": [
    "## pregunta: ¿Cuánto \"valen\" estas variables?\n",
    "\n",
    "## vemos qué hay adentro de la (nueva asignación de la) variable \"numero\"\n",
    "\n",
    "numero"
   ]
  },
  {
   "cell_type": "code",
   "execution_count": 8,
   "metadata": {},
   "outputs": [
    {
     "data": {
      "text/plain": [
       "'Santiago'"
      ]
     },
     "execution_count": 8,
     "metadata": {},
     "output_type": "execute_result"
    }
   ],
   "source": [
    "## vemos qué hay adentro de la (nueva asignación de la) variable \"palabra\"\n",
    "\n",
    "palabra"
   ]
  },
  {
   "cell_type": "markdown",
   "metadata": {},
   "source": [
    "¿Qué podemos **concluir**? Las variables se quedan con su **última asignación de contenido**"
   ]
  },
  {
   "cell_type": "markdown",
   "metadata": {},
   "source": [
    "### Las operaciones entre variables dependen del contexto"
   ]
  },
  {
   "cell_type": "markdown",
   "metadata": {},
   "source": [
    "Pensemos en dos preguntas muy simples: ¿Cómo podemos pegar (concatenar) strings? ¿Cómo sumamos números? El contenido (el **string**) 'Lima' se asigna a la variable \"palabra\". Ya sabemos que la variable \"palabra\" tiene como valor el que asignamos en su última asignación. Si tenemos dos strings, por ejemplo,"
   ]
  },
  {
   "cell_type": "code",
   "execution_count": 9,
   "metadata": {},
   "outputs": [],
   "source": [
    "## asignación de un string a una variable\n",
    "\n",
    "palabra1 = 'Lima'\n",
    "\n",
    "## asignación de un string a una variable\n",
    "\n",
    "palabra2 = 'Santiago'"
   ]
  },
  {
   "cell_type": "code",
   "execution_count": 10,
   "metadata": {},
   "outputs": [
    {
     "data": {
      "text/plain": [
       "('Lima', 'Santiago')"
      ]
     },
     "execution_count": 10,
     "metadata": {},
     "output_type": "execute_result"
    }
   ],
   "source": [
    "palabra1, palabra2"
   ]
  },
  {
   "cell_type": "code",
   "execution_count": 11,
   "metadata": {},
   "outputs": [
    {
     "data": {
      "text/plain": [
       "'LimaSantiago'"
      ]
     },
     "execution_count": 11,
     "metadata": {},
     "output_type": "execute_result"
    }
   ],
   "source": [
    "## podemos concatenarlos (pegarlos) usando\n",
    "\n",
    "## concatenación de dos strings\n",
    "'Lima' + 'Santiago'"
   ]
  },
  {
   "cell_type": "code",
   "execution_count": 12,
   "metadata": {},
   "outputs": [
    {
     "data": {
      "text/plain": [
       "'LimaSantiago'"
      ]
     },
     "execution_count": 12,
     "metadata": {},
     "output_type": "execute_result"
    }
   ],
   "source": [
    "## o bien\n",
    "\n",
    "## concatenación de dos variables tipo string\n",
    "palabra1 + palabra2"
   ]
  },
  {
   "cell_type": "code",
   "execution_count": 13,
   "metadata": {},
   "outputs": [],
   "source": [
    "## o bien!\n",
    "\n",
    "## asignación en la variable3 de la concatenación de dos variables tipo string\n",
    "palabra3 = palabra1 + palabra2"
   ]
  },
  {
   "cell_type": "code",
   "execution_count": 14,
   "metadata": {},
   "outputs": [
    {
     "data": {
      "text/plain": [
       "'LimaSantiago'"
      ]
     },
     "execution_count": 14,
     "metadata": {},
     "output_type": "execute_result"
    }
   ],
   "source": [
    "palabra3"
   ]
  },
  {
   "cell_type": "markdown",
   "metadata": {},
   "source": [
    "¿Cuál es la diferencia? ¿Qué hace el operador \"+\"? Si tenemos dos números, por ejemplo,"
   ]
  },
  {
   "cell_type": "code",
   "execution_count": 15,
   "metadata": {},
   "outputs": [],
   "source": [
    "## asignación de un string a una variable\n",
    "\n",
    "numero1 = 34\n",
    "\n",
    "## asignación de un string a una variable\n",
    "\n",
    "numero2 = 16"
   ]
  },
  {
   "cell_type": "code",
   "execution_count": 16,
   "metadata": {},
   "outputs": [
    {
     "data": {
      "text/plain": [
       "50"
      ]
     },
     "execution_count": 16,
     "metadata": {},
     "output_type": "execute_result"
    }
   ],
   "source": [
    "## podemos sumarlos usando\n",
    "\n",
    "## suma de dos números\n",
    "34 + 16"
   ]
  },
  {
   "cell_type": "code",
   "execution_count": 17,
   "metadata": {},
   "outputs": [
    {
     "data": {
      "text/plain": [
       "50"
      ]
     },
     "execution_count": 17,
     "metadata": {},
     "output_type": "execute_result"
    }
   ],
   "source": [
    "## podemos concatenarlos (pegarlos) usando\n",
    "\n",
    "## concatenación de dos strings\n",
    "numero1 + numero2"
   ]
  },
  {
   "cell_type": "code",
   "execution_count": 18,
   "metadata": {},
   "outputs": [],
   "source": [
    "## o bien!\n",
    "\n",
    "## asignación en numero3 de la suma de dos variables tipo número\n",
    "numero3 = numero1 + numero2"
   ]
  },
  {
   "cell_type": "code",
   "execution_count": 19,
   "metadata": {},
   "outputs": [
    {
     "data": {
      "text/plain": [
       "50"
      ]
     },
     "execution_count": 19,
     "metadata": {},
     "output_type": "execute_result"
    }
   ],
   "source": [
    "numero3"
   ]
  },
  {
   "cell_type": "code",
   "execution_count": 20,
   "metadata": {},
   "outputs": [
    {
     "ename": "TypeError",
     "evalue": "unsupported operand type(s) for +: 'int' and 'str'",
     "output_type": "error",
     "traceback": [
      "\u001b[1;31m---------------------------------------------------------------------------\u001b[0m",
      "\u001b[1;31mTypeError\u001b[0m                                 Traceback (most recent call last)",
      "\u001b[1;32m<ipython-input-20-fedabf654cf1>\u001b[0m in \u001b[0;36m<module>\u001b[1;34m\u001b[0m\n\u001b[0;32m      1\u001b[0m \u001b[1;31m## ¿Qué ocurre si \"sumamos\" números con strings?\u001b[0m\u001b[1;33m\u001b[0m\u001b[1;33m\u001b[0m\u001b[1;33m\u001b[0m\u001b[0m\n\u001b[0;32m      2\u001b[0m \u001b[1;33m\u001b[0m\u001b[0m\n\u001b[1;32m----> 3\u001b[1;33m \u001b[0mnumero1\u001b[0m \u001b[1;33m+\u001b[0m \u001b[0mpalabra1\u001b[0m\u001b[1;33m\u001b[0m\u001b[1;33m\u001b[0m\u001b[0m\n\u001b[0m",
      "\u001b[1;31mTypeError\u001b[0m: unsupported operand type(s) for +: 'int' and 'str'"
     ]
    }
   ],
   "source": [
    "## ¿Qué ocurre si \"sumamos\" números con strings?\n",
    "\n",
    "numero1 + palabra1"
   ]
  },
  {
   "cell_type": "markdown",
   "metadata": {},
   "source": [
    "¿Qué es **+** de acuerdo a los ejemplos anteriores? Una conclusión fundamental es:\n",
    "    \n",
    "* El operador **+** depende del contexto: números o strings!\n",
    "* Solo podemos operar entre variables del mismo tipo!"
   ]
  },
  {
   "cell_type": "markdown",
   "metadata": {},
   "source": [
    "### Un poco más sobre strings\n",
    "\n",
    "Idea importante! todas las asignaciones ocurren de derecha a izquierda :O"
   ]
  },
  {
   "cell_type": "code",
   "execution_count": 21,
   "metadata": {},
   "outputs": [],
   "source": [
    "## ejemplo: número 21 en Quechua\n",
    "\n",
    "## asignamos un string a la variable string_numero\n",
    "string_numero = 'iskay chunka huk-ni-yuq'"
   ]
  },
  {
   "cell_type": "code",
   "execution_count": 22,
   "metadata": {},
   "outputs": [],
   "source": [
    "## tiene un largo que equivale al número de caracteres. Esto incluye, por supuesto, los espacios en blanco!\n",
    "\n",
    "n = len(string_numero)"
   ]
  },
  {
   "cell_type": "code",
   "execution_count": 23,
   "metadata": {},
   "outputs": [
    {
     "data": {
      "text/plain": [
       "23"
      ]
     },
     "execution_count": 23,
     "metadata": {},
     "output_type": "execute_result"
    }
   ],
   "source": [
    "n"
   ]
  },
  {
   "cell_type": "code",
   "execution_count": 24,
   "metadata": {},
   "outputs": [],
   "source": [
    "## todos los caracteres en mayúscula\n",
    "\n",
    "string_mayuscula = string_numero.upper()"
   ]
  },
  {
   "cell_type": "code",
   "execution_count": 25,
   "metadata": {},
   "outputs": [
    {
     "data": {
      "text/plain": [
       "'ISKAY CHUNKA HUK-NI-YUQ'"
      ]
     },
     "execution_count": 25,
     "metadata": {},
     "output_type": "execute_result"
    }
   ],
   "source": [
    "string_mayuscula"
   ]
  },
  {
   "cell_type": "code",
   "execution_count": 26,
   "metadata": {},
   "outputs": [],
   "source": [
    "## todos los caracteres en minúscula\n",
    "\n",
    "string_minuscula = string_mayuscula.lower()"
   ]
  },
  {
   "cell_type": "code",
   "execution_count": 27,
   "metadata": {},
   "outputs": [
    {
     "data": {
      "text/plain": [
       "'iskay chunka huk-ni-yuq'"
      ]
     },
     "execution_count": 27,
     "metadata": {},
     "output_type": "execute_result"
    }
   ],
   "source": [
    "string_minuscula"
   ]
  },
  {
   "cell_type": "code",
   "execution_count": 28,
   "metadata": {},
   "outputs": [],
   "source": [
    "## ¿Cuántas veces aparece un caracter?\n",
    "\n",
    "## usamos count\n",
    "\n",
    "numero_veces = string_numero.count('k')"
   ]
  },
  {
   "cell_type": "code",
   "execution_count": 29,
   "metadata": {},
   "outputs": [
    {
     "data": {
      "text/plain": [
       "3"
      ]
     },
     "execution_count": 29,
     "metadata": {},
     "output_type": "execute_result"
    }
   ],
   "source": [
    "numero_veces"
   ]
  },
  {
   "cell_type": "code",
   "execution_count": 30,
   "metadata": {},
   "outputs": [],
   "source": [
    "## cambiemos partes de un string\n",
    "## usamos replace: el viejo por el nuevo\n",
    "\n",
    "string_nueva_version_numero = string_numero.replace('iskay', 'kimsa' )"
   ]
  },
  {
   "cell_type": "code",
   "execution_count": 31,
   "metadata": {},
   "outputs": [
    {
     "data": {
      "text/plain": [
       "'kimsa chunka huk-ni-yuq'"
      ]
     },
     "execution_count": 31,
     "metadata": {},
     "output_type": "execute_result"
    }
   ],
   "source": [
    "string_nueva_version_numero"
   ]
  },
  {
   "cell_type": "code",
   "execution_count": 32,
   "metadata": {},
   "outputs": [],
   "source": [
    "## transformaciones de número a string\n",
    "\n",
    "string_desde_numero = str(31)"
   ]
  },
  {
   "cell_type": "code",
   "execution_count": 33,
   "metadata": {},
   "outputs": [
    {
     "data": {
      "text/plain": [
       "'31'"
      ]
     },
     "execution_count": 33,
     "metadata": {},
     "output_type": "execute_result"
    }
   ],
   "source": [
    "string_desde_numero"
   ]
  },
  {
   "cell_type": "code",
   "execution_count": 34,
   "metadata": {},
   "outputs": [],
   "source": [
    "## largo de este nuevo string\n",
    "\n",
    "n = len(string_desde_numero)"
   ]
  },
  {
   "cell_type": "code",
   "execution_count": 35,
   "metadata": {},
   "outputs": [
    {
     "data": {
      "text/plain": [
       "2"
      ]
     },
     "execution_count": 35,
     "metadata": {},
     "output_type": "execute_result"
    }
   ],
   "source": [
    "n"
   ]
  },
  {
   "cell_type": "markdown",
   "metadata": {},
   "source": [
    "### Desafíos!"
   ]
  },
  {
   "cell_type": "code",
   "execution_count": 36,
   "metadata": {},
   "outputs": [],
   "source": [
    "## Encuentre el número de veces que aparece cada caracter de string_numero\n",
    "## Sume todas las veces que aparece cada caracter de string_numero\n",
    "## ¿A qué equivale esta suma?"
   ]
  },
  {
   "cell_type": "code",
   "execution_count": 37,
   "metadata": {},
   "outputs": [],
   "source": [
    "## 31 se escribe kimsa chunka huk-ni-yuq\n",
    "## 33 se escribe kimsa chunka kimsa-yuq\n",
    "## Reemplace caracteres para transformar un string en el otro"
   ]
  },
  {
   "cell_type": "code",
   "execution_count": 38,
   "metadata": {},
   "outputs": [],
   "source": [
    "## intente explicar el siguiente código\n",
    "\n",
    "string_numero_nuevo = string_numero[:4] + string_numero[4:]"
   ]
  },
  {
   "cell_type": "code",
   "execution_count": 39,
   "metadata": {},
   "outputs": [
    {
     "data": {
      "text/plain": [
       "'iskay chunka huk-ni-yuq'"
      ]
     },
     "execution_count": 39,
     "metadata": {},
     "output_type": "execute_result"
    }
   ],
   "source": [
    "string_numero_nuevo"
   ]
  },
  {
   "cell_type": "code",
   "execution_count": 40,
   "metadata": {},
   "outputs": [],
   "source": [
    "## Encuentre el número de dígitos que tiene un número entero. Por ejemplo, 34 tiene 2 dígitos; 345 tiene tres dígitos. "
   ]
  },
  {
   "cell_type": "code",
   "execution_count": 41,
   "metadata": {},
   "outputs": [],
   "source": [
    "## Explique con sus propias palabras qué significan las siguientes líneas de código\n",
    "## Agregue comentarios que expliquen cada línea\n",
    "## ¿Qué es el signo \"=\"?\n",
    "\n",
    "numero = 10\n",
    "\n",
    "numero = numero + 2"
   ]
  },
  {
   "cell_type": "code",
   "execution_count": 42,
   "metadata": {},
   "outputs": [],
   "source": [
    "string = 'hola'\n",
    "\n",
    "string = string + '-chao'"
   ]
  },
  {
   "cell_type": "code",
   "execution_count": null,
   "metadata": {},
   "outputs": [],
   "source": []
  }
 ],
 "metadata": {
  "colab": {
   "name": "semana-1.ipynb",
   "provenance": []
  },
  "kernelspec": {
   "display_name": "Python 3",
   "language": "python",
   "name": "python3"
  },
  "language_info": {
   "codemirror_mode": {
    "name": "ipython",
    "version": 3
   },
   "file_extension": ".py",
   "mimetype": "text/x-python",
   "name": "python",
   "nbconvert_exporter": "python",
   "pygments_lexer": "ipython3",
   "version": "3.8.8"
  }
 },
 "nbformat": 4,
 "nbformat_minor": 1
}
