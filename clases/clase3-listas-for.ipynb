{
 "cells": [
  {
   "cell_type": "markdown",
   "metadata": {},
   "source": [
    "# **Introducción a la lingüística computacional con Python**\n",
    "### Javier Vera Zúñiga, jveraz@pucp.edu.pe\n",
    "\n",
    "## Clase 3"
   ]
  },
  {
   "cell_type": "markdown",
   "metadata": {
    "id": "Z94xIrgS63k9"
   },
   "source": [
    "## Repaso sobre listas en **Python**\n",
    "\n",
    "Usemos un string para almacenar un **[texto](https://es.wikipedia.org/wiki/Ada_Lovelace)**"
   ]
  },
  {
   "cell_type": "code",
   "execution_count": 2,
   "metadata": {},
   "outputs": [],
   "source": [
    "## copiamos y pegamos una porción del texto del link\n",
    "\n",
    "texto = 'Augusta Ada King, condesa de Lovelace, registrada al nacer como Augusta Ada Byron y conocida habitualmente como Ada Lovelace, fue una matemática y escritora británica, célebre sobre todo por su trabajo acerca de la computadora mecánica de uso general de Charles Babbage, la denominada máquina analítica. Fue la primera en reconocer que la máquina tenía aplicaciones más allá del cálculo puro y en haber publicado lo que se reconoce hoy como el primer algoritmo destinado a ser procesado por una máquina, por lo que se la considera como la primera programadora de ordenadores.'"
   ]
  },
  {
   "cell_type": "code",
   "execution_count": 3,
   "metadata": {},
   "outputs": [
    {
     "data": {
      "text/plain": [
       "'Augusta Ada King, condesa de Lovelace, registrada al nacer como Augusta Ada Byron y conocida habitualmente como Ada Lovelace, fue una matemática y escritora británica, célebre sobre todo por su trabajo acerca de la computadora mecánica de uso general de Charles Babbage, la denominada máquina analítica. Fue la primera en reconocer que la máquina tenía aplicaciones más allá del cálculo puro y en haber publicado lo que se reconoce hoy como el primer algoritmo destinado a ser procesado por una máquina, por lo que se la considera como la primera programadora de ordenadores.'"
      ]
     },
     "execution_count": 3,
     "metadata": {},
     "output_type": "execute_result"
    }
   ],
   "source": [
    "texto"
   ]
  },
  {
   "cell_type": "code",
   "execution_count": 4,
   "metadata": {},
   "outputs": [],
   "source": [
    "## transformemos un string en una lista\n",
    "\n",
    "lista_desde_texto = texto.split(' ')"
   ]
  },
  {
   "cell_type": "markdown",
   "metadata": {},
   "source": [
    "Una **lista** es esencialmente:\n",
    "- una **estructura que almacena elementos**, que pueden ser strings, números, otras listas, y muchas otras cosas;\n",
    "- de forma **ordenada!**\n",
    "El **orden** de las listas permite acceder a sus elementos mediante la posición (el índice)"
   ]
  },
  {
   "cell_type": "code",
   "execution_count": 5,
   "metadata": {},
   "outputs": [
    {
     "data": {
      "text/plain": [
       "['Augusta',\n",
       " 'Ada',\n",
       " 'King,',\n",
       " 'condesa',\n",
       " 'de',\n",
       " 'Lovelace,',\n",
       " 'registrada',\n",
       " 'al',\n",
       " 'nacer',\n",
       " 'como',\n",
       " 'Augusta',\n",
       " 'Ada',\n",
       " 'Byron',\n",
       " 'y',\n",
       " 'conocida',\n",
       " 'habitualmente',\n",
       " 'como',\n",
       " 'Ada',\n",
       " 'Lovelace,',\n",
       " 'fue',\n",
       " 'una',\n",
       " 'matemática',\n",
       " 'y',\n",
       " 'escritora',\n",
       " 'británica,',\n",
       " 'célebre',\n",
       " 'sobre',\n",
       " 'todo',\n",
       " 'por',\n",
       " 'su',\n",
       " 'trabajo',\n",
       " 'acerca',\n",
       " 'de',\n",
       " 'la',\n",
       " 'computadora',\n",
       " 'mecánica',\n",
       " 'de',\n",
       " 'uso',\n",
       " 'general',\n",
       " 'de',\n",
       " 'Charles',\n",
       " 'Babbage,',\n",
       " 'la',\n",
       " 'denominada',\n",
       " 'máquina',\n",
       " 'analítica.',\n",
       " 'Fue',\n",
       " 'la',\n",
       " 'primera',\n",
       " 'en',\n",
       " 'reconocer',\n",
       " 'que',\n",
       " 'la',\n",
       " 'máquina',\n",
       " 'tenía',\n",
       " 'aplicaciones',\n",
       " 'más',\n",
       " 'allá',\n",
       " 'del',\n",
       " 'cálculo',\n",
       " 'puro',\n",
       " 'y',\n",
       " 'en',\n",
       " 'haber',\n",
       " 'publicado',\n",
       " 'lo',\n",
       " 'que',\n",
       " 'se',\n",
       " 'reconoce',\n",
       " 'hoy',\n",
       " 'como',\n",
       " 'el',\n",
       " 'primer',\n",
       " 'algoritmo',\n",
       " 'destinado',\n",
       " 'a',\n",
       " 'ser',\n",
       " 'procesado',\n",
       " 'por',\n",
       " 'una',\n",
       " 'máquina,',\n",
       " 'por',\n",
       " 'lo',\n",
       " 'que',\n",
       " 'se',\n",
       " 'la',\n",
       " 'considera',\n",
       " 'como',\n",
       " 'la',\n",
       " 'primera',\n",
       " 'programadora',\n",
       " 'de',\n",
       " 'ordenadores.']"
      ]
     },
     "execution_count": 5,
     "metadata": {},
     "output_type": "execute_result"
    }
   ],
   "source": [
    "## ¿Cómo se ve la lista?\n",
    "lista_desde_texto"
   ]
  },
  {
   "cell_type": "code",
   "execution_count": 6,
   "metadata": {},
   "outputs": [],
   "source": [
    "## la lista tiene un primer elemento, un segundo elemento, y así sucesivamente\n",
    "\n",
    "## los índices de las listas comienzan desde 0\n",
    "primer_elemento = lista_desde_texto[0]\n",
    "\n",
    "## segundo elemento\n",
    "segundo_elemento = lista_desde_texto[1]"
   ]
  },
  {
   "cell_type": "code",
   "execution_count": 8,
   "metadata": {},
   "outputs": [
    {
     "data": {
      "text/plain": [
       "('Augusta', 'Ada')"
      ]
     },
     "execution_count": 8,
     "metadata": {},
     "output_type": "execute_result"
    }
   ],
   "source": [
    "primer_elemento, segundo_elemento"
   ]
  },
  {
   "cell_type": "code",
   "execution_count": 13,
   "metadata": {},
   "outputs": [],
   "source": [
    "## las listas tienen un largo, que podemos asignar a una variable\n",
    "\n",
    "## número de elementos de lista_desde_texto\n",
    "n = len(lista_desde_texto)"
   ]
  },
  {
   "cell_type": "code",
   "execution_count": 14,
   "metadata": {},
   "outputs": [
    {
     "data": {
      "text/plain": [
       "93"
      ]
     },
     "execution_count": 14,
     "metadata": {},
     "output_type": "execute_result"
    }
   ],
   "source": [
    "n"
   ]
  },
  {
   "cell_type": "code",
   "execution_count": 15,
   "metadata": {},
   "outputs": [],
   "source": [
    "## ¿Cuál es el índice más grande al que podemos acceder?\n",
    "\n",
    "## último elemento de la lista\n",
    "ultimo_elemento = lista_desde_texto[n-1]"
   ]
  },
  {
   "cell_type": "code",
   "execution_count": 16,
   "metadata": {},
   "outputs": [
    {
     "data": {
      "text/plain": [
       "'ordenadores.'"
      ]
     },
     "execution_count": 16,
     "metadata": {},
     "output_type": "execute_result"
    }
   ],
   "source": [
    "ultimo_elemento"
   ]
  },
  {
   "cell_type": "code",
   "execution_count": 19,
   "metadata": {},
   "outputs": [],
   "source": [
    "## ¿Cómo agregamos elementos a una lista?"
   ]
  },
  {
   "cell_type": "code",
   "execution_count": 20,
   "metadata": {},
   "outputs": [],
   "source": [
    "## manera 1: manualmente\n",
    "\n",
    "lista_texto = ['Augusta', 'Ada', 'King,']"
   ]
  },
  {
   "cell_type": "code",
   "execution_count": 21,
   "metadata": {},
   "outputs": [
    {
     "data": {
      "text/plain": [
       "['Augusta', 'Ada', 'King,']"
      ]
     },
     "execution_count": 21,
     "metadata": {},
     "output_type": "execute_result"
    }
   ],
   "source": [
    "lista_texto"
   ]
  },
  {
   "cell_type": "code",
   "execution_count": 25,
   "metadata": {},
   "outputs": [],
   "source": [
    "## manera 2: usando el signo \"+\"\n",
    "\n",
    "## comencemos con una lista vacía\n",
    "lista_texto = []"
   ]
  },
  {
   "cell_type": "code",
   "execution_count": 26,
   "metadata": {},
   "outputs": [],
   "source": [
    "## sucesivamente vamos agregando elementos\n",
    "\n",
    "## agregamos el string 'Augusta'\n",
    "lista_texto = lista_texto + ['Augusta']"
   ]
  },
  {
   "cell_type": "code",
   "execution_count": 27,
   "metadata": {},
   "outputs": [
    {
     "data": {
      "text/plain": [
       "['Augusta']"
      ]
     },
     "execution_count": 27,
     "metadata": {},
     "output_type": "execute_result"
    }
   ],
   "source": [
    "lista_texto"
   ]
  },
  {
   "cell_type": "code",
   "execution_count": 28,
   "metadata": {},
   "outputs": [],
   "source": [
    "## agregamos el string 'Ada'\n",
    "lista_texto = lista_texto + ['Ada']"
   ]
  },
  {
   "cell_type": "code",
   "execution_count": 29,
   "metadata": {},
   "outputs": [
    {
     "data": {
      "text/plain": [
       "['Augusta', 'Ada']"
      ]
     },
     "execution_count": 29,
     "metadata": {},
     "output_type": "execute_result"
    }
   ],
   "source": [
    "lista_texto"
   ]
  },
  {
   "cell_type": "code",
   "execution_count": 30,
   "metadata": {},
   "outputs": [],
   "source": [
    "## agregamos el string 'King,'\n",
    "lista_texto = lista_texto + ['King,']"
   ]
  },
  {
   "cell_type": "code",
   "execution_count": 31,
   "metadata": {},
   "outputs": [
    {
     "data": {
      "text/plain": [
       "['Augusta', 'Ada', 'King,']"
      ]
     },
     "execution_count": 31,
     "metadata": {},
     "output_type": "execute_result"
    }
   ],
   "source": [
    "lista_texto"
   ]
  },
  {
   "cell_type": "markdown",
   "metadata": {},
   "source": [
    "## Desafíos"
   ]
  },
  {
   "cell_type": "markdown",
   "metadata": {},
   "source": [
    "**Mini desafío 1: números en Quechua**\n",
    "Considere la siguiente lista de números en Quechua. Construya una serie de instrucciones que transformen un número entero entre 1 y 20"
   ]
  },
  {
   "cell_type": "code",
   "execution_count": 32,
   "metadata": {},
   "outputs": [],
   "source": [
    "## por ejemplo, podría definir N = 12\n",
    "\n",
    "## números del 1 al 20\n",
    "\n",
    "lista_numeros_1_20 = ['huk', 'iskay', 'kimsa', 'tawa', 'pichqa', 'suqta', 'qanchis', 'pusaq', 'isqun', 'chunka',\n",
    "'chunka huk-ni-yuq', 'chunka iskay-ni-yuq', 'chunka kimsa-yuq', 'chunka tawa-yuq', 'chunka pichqa-yuq',\n",
    "'chunka suqta-yuq', 'chunka qanchis-ni-yuq', 'chunka pusaq-ni-yuq', 'chunka isqun-ni-yuq', 'iskay chunka']"
   ]
  },
  {
   "cell_type": "markdown",
   "metadata": {},
   "source": [
    "**Mini desafío 2:** acceso a elementos de una lista. Considere la lista de números en Quechua. lista_indices es una lista con todos los índices de la lista lista_numeros_1_20. Trate de explicar qué hace el siguiente código."
   ]
  },
  {
   "cell_type": "code",
   "execution_count": 62,
   "metadata": {},
   "outputs": [
    {
     "name": "stdout",
     "output_type": "stream",
     "text": [
      "0\n",
      "1\n",
      "2\n",
      "3\n",
      "4\n",
      "5\n",
      "6\n",
      "7\n",
      "8\n",
      "9\n",
      "10\n",
      "11\n",
      "12\n",
      "13\n",
      "14\n",
      "15\n",
      "16\n",
      "17\n",
      "18\n",
      "19\n"
     ]
    }
   ],
   "source": [
    "## lista de números entre 0 y 19\n",
    "lista_indices = list(range(20))\n",
    "\n",
    "## accedemos sucesivamente a los índices\n",
    "for indice in lista_indices:\n",
    "    print(indice)"
   ]
  },
  {
   "cell_type": "markdown",
   "metadata": {},
   "source": [
    "## Iteraciones en Python: ciclos for\n",
    "Los **ciclos for son listas!** ¿En qué sentido? Las listas son estructuras definidas por el orden de sus elementos. Este orden nos servirá entonces para:\n",
    "\n",
    "1. procesos que deben repetirse tantas veces como elementos tiene alguna lista; o\n",
    "2. procesos que hagan algo sobre los elementos de una lista"
   ]
  },
  {
   "cell_type": "markdown",
   "metadata": {},
   "source": [
    "### Caso 1. Procesos que se repiten\n",
    "\n",
    "Copiemos una lista."
   ]
  },
  {
   "cell_type": "code",
   "execution_count": 64,
   "metadata": {},
   "outputs": [
    {
     "data": {
      "text/plain": [
       "['Augusta', 'Ada', 'King,', 'condesa', 'de']"
      ]
     },
     "execution_count": 64,
     "metadata": {},
     "output_type": "execute_result"
    }
   ],
   "source": [
    "## recordemos que lista_desde_texto es una lista de strings\n",
    "\n",
    "lista_desde_texto[:5]"
   ]
  },
  {
   "cell_type": "code",
   "execution_count": 65,
   "metadata": {},
   "outputs": [],
   "source": [
    "## definamos una lista vacía\n",
    "lista_nueva = []\n",
    "\n",
    "## recorremos la lista lista_desde_texto\n",
    "for palabra in lista_desde_texto: ## noten que \"for\" y \"in\" toman un color destacado\n",
    "\n",
    "    ## agregamos palabra a lista_nueva\n",
    "    lista_nueva = lista_nueva + [palabra]"
   ]
  },
  {
   "cell_type": "code",
   "execution_count": 67,
   "metadata": {},
   "outputs": [
    {
     "data": {
      "text/plain": [
       "['Augusta', 'Ada', 'King,', 'condesa', 'de']"
      ]
     },
     "execution_count": 67,
     "metadata": {},
     "output_type": "execute_result"
    }
   ],
   "source": [
    "lista_nueva[:5]"
   ]
  },
  {
   "cell_type": "code",
   "execution_count": 68,
   "metadata": {},
   "outputs": [],
   "source": [
    "## otra forma :)\n",
    "\n",
    "## definamos una lista vacía\n",
    "lista_nueva = []\n",
    "\n",
    "## largo de la lista\n",
    "n = len(lista_desde_texto)\n",
    "\n",
    "## definimos una lista de índices para recorrer la lista lista_desde_texto\n",
    "indices = list(range(n))\n",
    "\n",
    "## recorremos la lista lista_desde_texto\n",
    "for indice in indices: ## noten que \"for\" y \"in\" toman un color destacado\n",
    "\n",
    "    ## accedemos a la palabra en una posición\n",
    "    palabra = lista_desde_texto[indice]\n",
    "\n",
    "    ## agregamos palabra a lista_nueva\n",
    "    lista_nueva = lista_nueva + [palabra]"
   ]
  },
  {
   "cell_type": "code",
   "execution_count": 69,
   "metadata": {},
   "outputs": [
    {
     "data": {
      "text/plain": [
       "['Augusta', 'Ada', 'King,', 'condesa', 'de']"
      ]
     },
     "execution_count": 69,
     "metadata": {},
     "output_type": "execute_result"
    }
   ],
   "source": [
    "lista_nueva[:5]"
   ]
  },
  {
   "cell_type": "markdown",
   "metadata": {},
   "source": [
    "### Caso 2. Procesos que se repiten para hacer algo!"
   ]
  },
  {
   "cell_type": "code",
   "execution_count": 70,
   "metadata": {},
   "outputs": [
    {
     "name": "stdout",
     "output_type": "stream",
     "text": [
      "Augusta augusta\n",
      "Ada ada\n",
      "King, king,\n",
      "condesa condesa\n",
      "de de\n",
      "Lovelace, lovelace,\n",
      "registrada registrada\n",
      "al al\n",
      "nacer nacer\n",
      "como como\n",
      "Augusta augusta\n",
      "Ada ada\n",
      "Byron byron\n",
      "y y\n",
      "conocida conocida\n",
      "habitualmente habitualmente\n",
      "como como\n",
      "Ada ada\n",
      "Lovelace, lovelace,\n",
      "fue fue\n",
      "una una\n",
      "matemática matemática\n",
      "y y\n",
      "escritora escritora\n",
      "británica, británica,\n",
      "célebre célebre\n",
      "sobre sobre\n",
      "todo todo\n",
      "por por\n",
      "su su\n",
      "trabajo trabajo\n",
      "acerca acerca\n",
      "de de\n",
      "la la\n",
      "computadora computadora\n",
      "mecánica mecánica\n",
      "de de\n",
      "uso uso\n",
      "general general\n",
      "de de\n",
      "Charles charles\n",
      "Babbage, babbage,\n",
      "la la\n",
      "denominada denominada\n",
      "máquina máquina\n",
      "analítica. analítica.\n",
      "Fue fue\n",
      "la la\n",
      "primera primera\n",
      "en en\n",
      "reconocer reconocer\n",
      "que que\n",
      "la la\n",
      "máquina máquina\n",
      "tenía tenía\n",
      "aplicaciones aplicaciones\n",
      "más más\n",
      "allá allá\n",
      "del del\n",
      "cálculo cálculo\n",
      "puro puro\n",
      "y y\n",
      "en en\n",
      "haber haber\n",
      "publicado publicado\n",
      "lo lo\n",
      "que que\n",
      "se se\n",
      "reconoce reconoce\n",
      "hoy hoy\n",
      "como como\n",
      "el el\n",
      "primer primer\n",
      "algoritmo algoritmo\n",
      "destinado destinado\n",
      "a a\n",
      "ser ser\n",
      "procesado procesado\n",
      "por por\n",
      "una una\n",
      "máquina, máquina,\n",
      "por por\n",
      "lo lo\n",
      "que que\n",
      "se se\n",
      "la la\n",
      "considera considera\n",
      "como como\n",
      "la la\n",
      "primera primera\n",
      "programadora programadora\n",
      "de de\n",
      "ordenadores. ordenadores.\n"
     ]
    }
   ],
   "source": [
    "## recorremos la lista lista_desde_texto\n",
    "for palabra in lista_desde_texto: ## noten que \"for\" y \"in\" toman un color destacado\n",
    "\n",
    "    ## imprimimos la palabra en minúscula\n",
    "    print(palabra, palabra.lower())"
   ]
  },
  {
   "cell_type": "code",
   "execution_count": 71,
   "metadata": {},
   "outputs": [
    {
     "data": {
      "text/plain": [
       "['huk',\n",
       " 'iskay',\n",
       " 'kimsa',\n",
       " 'tawa',\n",
       " 'pichqa',\n",
       " 'suqta',\n",
       " 'qanchis',\n",
       " 'pusaq',\n",
       " 'isqun',\n",
       " 'chunka',\n",
       " 'chunka huk-ni-yuq',\n",
       " 'chunka iskay-ni-yuq',\n",
       " 'chunka kimsa-yuq',\n",
       " 'chunka tawa-yuq',\n",
       " 'chunka pichqa-yuq',\n",
       " 'chunka suqta-yuq',\n",
       " 'chunka qanchis-ni-yuq',\n",
       " 'chunka pusaq-ni-yuq',\n",
       " 'chunka isqun-ni-yuq',\n",
       " 'iskay chunka']"
      ]
     },
     "execution_count": 71,
     "metadata": {},
     "output_type": "execute_result"
    }
   ],
   "source": [
    "## otro ejemplo! La lista lista_numeros_1_20 tiene los números en Quechua del 1 al 20\n",
    "\n",
    "lista_numeros_1_20 "
   ]
  },
  {
   "cell_type": "code",
   "execution_count": 72,
   "metadata": {},
   "outputs": [],
   "source": [
    "## Definamos una lista vacía. En esta lista, guardaremos pares del tipo '1: huk'\n",
    "\n",
    "lista_numeros_quec = []"
   ]
  },
  {
   "cell_type": "code",
   "execution_count": 74,
   "metadata": {},
   "outputs": [],
   "source": [
    "## por ejemplo\n",
    "\n",
    "numero_palabra = str(1)+':'+'huk'"
   ]
  },
  {
   "cell_type": "code",
   "execution_count": 75,
   "metadata": {},
   "outputs": [
    {
     "data": {
      "text/plain": [
       "'1:huk'"
      ]
     },
     "execution_count": 75,
     "metadata": {},
     "output_type": "execute_result"
    }
   ],
   "source": [
    "numero_palabra"
   ]
  },
  {
   "cell_type": "markdown",
   "metadata": {},
   "source": [
    "### Desafío grupal\n",
    "\n",
    "Recordemos que dada una lista podemos usar .index para encontrar el índice de un elemento"
   ]
  },
  {
   "cell_type": "code",
   "execution_count": 76,
   "metadata": {},
   "outputs": [],
   "source": [
    "## índice de ejemplo\n",
    "\n",
    "indice = lista_desde_texto.index('de')"
   ]
  },
  {
   "cell_type": "code",
   "execution_count": 77,
   "metadata": {},
   "outputs": [
    {
     "data": {
      "text/plain": [
       "4"
      ]
     },
     "execution_count": 77,
     "metadata": {},
     "output_type": "execute_result"
    }
   ],
   "source": [
    "indice"
   ]
  },
  {
   "cell_type": "code",
   "execution_count": 78,
   "metadata": {},
   "outputs": [],
   "source": [
    "## un aspecto interesante es que 'de' aparece más de una vez en esta lista\n",
    "\n",
    "numero_veces = lista_desde_texto.count('de')"
   ]
  },
  {
   "cell_type": "code",
   "execution_count": 79,
   "metadata": {},
   "outputs": [
    {
     "data": {
      "text/plain": [
       "5"
      ]
     },
     "execution_count": 79,
     "metadata": {},
     "output_type": "execute_result"
    }
   ],
   "source": [
    "numero_veces"
   ]
  },
  {
   "cell_type": "code",
   "execution_count": 80,
   "metadata": {},
   "outputs": [],
   "source": [
    "## entonces, .index indica el índice de la primera aparición de un elemento en una lista. Con esto, \n",
    "## ¿Cómo se ven los índices de las palabras?\n",
    "\n",
    "## guardamos los índices en esta lista vacía\n",
    "lista_indices = []\n",
    "\n",
    "## recorremos la lista lista_desde_texto y vamos preguntando los índices\n",
    "for palabra in lista_desde_texto:\n",
    "\n",
    "    ## índice\n",
    "    indice = lista_desde_texto.index(palabra)\n",
    "\n",
    "    ## guardamos este índice\n",
    "    lista_indices = lista_indices + [indice]"
   ]
  },
  {
   "cell_type": "code",
   "execution_count": 81,
   "metadata": {},
   "outputs": [
    {
     "data": {
      "text/plain": [
       "[0,\n",
       " 1,\n",
       " 2,\n",
       " 3,\n",
       " 4,\n",
       " 5,\n",
       " 6,\n",
       " 7,\n",
       " 8,\n",
       " 9,\n",
       " 0,\n",
       " 1,\n",
       " 12,\n",
       " 13,\n",
       " 14,\n",
       " 15,\n",
       " 9,\n",
       " 1,\n",
       " 5,\n",
       " 19,\n",
       " 20,\n",
       " 21,\n",
       " 13,\n",
       " 23,\n",
       " 24,\n",
       " 25,\n",
       " 26,\n",
       " 27,\n",
       " 28,\n",
       " 29,\n",
       " 30,\n",
       " 31,\n",
       " 4,\n",
       " 33,\n",
       " 34,\n",
       " 35,\n",
       " 4,\n",
       " 37,\n",
       " 38,\n",
       " 4,\n",
       " 40,\n",
       " 41,\n",
       " 33,\n",
       " 43,\n",
       " 44,\n",
       " 45,\n",
       " 46,\n",
       " 33,\n",
       " 48,\n",
       " 49,\n",
       " 50,\n",
       " 51,\n",
       " 33,\n",
       " 44,\n",
       " 54,\n",
       " 55,\n",
       " 56,\n",
       " 57,\n",
       " 58,\n",
       " 59,\n",
       " 60,\n",
       " 13,\n",
       " 49,\n",
       " 63,\n",
       " 64,\n",
       " 65,\n",
       " 51,\n",
       " 67,\n",
       " 68,\n",
       " 69,\n",
       " 9,\n",
       " 71,\n",
       " 72,\n",
       " 73,\n",
       " 74,\n",
       " 75,\n",
       " 76,\n",
       " 77,\n",
       " 28,\n",
       " 20,\n",
       " 80,\n",
       " 28,\n",
       " 65,\n",
       " 51,\n",
       " 67,\n",
       " 33,\n",
       " 86,\n",
       " 9,\n",
       " 33,\n",
       " 48,\n",
       " 90,\n",
       " 4,\n",
       " 92]"
      ]
     },
     "execution_count": 81,
     "metadata": {},
     "output_type": "execute_result"
    }
   ],
   "source": [
    "lista_indices"
   ]
  },
  {
   "cell_type": "code",
   "execution_count": 82,
   "metadata": {},
   "outputs": [
    {
     "name": "stdout",
     "output_type": "stream",
     "text": [
      "93 93\n"
     ]
    }
   ],
   "source": [
    "## notemos que esta última lista tiene el mismo número de elementos que lista_desde_texto\n",
    "\n",
    "print(len(lista_indices),len(lista_desde_texto))"
   ]
  },
  {
   "cell_type": "code",
   "execution_count": 83,
   "metadata": {},
   "outputs": [],
   "source": [
    "## ¿Cómo eliminamos los índices repetidos?\n",
    "\n",
    "indices_no_repetidos = list(set(lista_indices))"
   ]
  },
  {
   "cell_type": "code",
   "execution_count": 84,
   "metadata": {},
   "outputs": [
    {
     "data": {
      "text/plain": [
       "[0,\n",
       " 1,\n",
       " 2,\n",
       " 3,\n",
       " 4,\n",
       " 5,\n",
       " 6,\n",
       " 7,\n",
       " 8,\n",
       " 9,\n",
       " 12,\n",
       " 13,\n",
       " 14,\n",
       " 15,\n",
       " 19,\n",
       " 20,\n",
       " 21,\n",
       " 23,\n",
       " 24,\n",
       " 25,\n",
       " 26,\n",
       " 27,\n",
       " 28,\n",
       " 29,\n",
       " 30,\n",
       " 31,\n",
       " 33,\n",
       " 34,\n",
       " 35,\n",
       " 37,\n",
       " 38,\n",
       " 40,\n",
       " 41,\n",
       " 43,\n",
       " 44,\n",
       " 45,\n",
       " 46,\n",
       " 48,\n",
       " 49,\n",
       " 50,\n",
       " 51,\n",
       " 54,\n",
       " 55,\n",
       " 56,\n",
       " 57,\n",
       " 58,\n",
       " 59,\n",
       " 60,\n",
       " 63,\n",
       " 64,\n",
       " 65,\n",
       " 67,\n",
       " 68,\n",
       " 69,\n",
       " 71,\n",
       " 72,\n",
       " 73,\n",
       " 74,\n",
       " 75,\n",
       " 76,\n",
       " 77,\n",
       " 80,\n",
       " 86,\n",
       " 90,\n",
       " 92]"
      ]
     },
     "execution_count": 84,
     "metadata": {},
     "output_type": "execute_result"
    }
   ],
   "source": [
    "indices_no_repetidos"
   ]
  },
  {
   "cell_type": "code",
   "execution_count": 85,
   "metadata": {},
   "outputs": [
    {
     "name": "stdout",
     "output_type": "stream",
     "text": [
      "65 93\n"
     ]
    }
   ],
   "source": [
    "## ¿y ahora?\n",
    "\n",
    "print(len(indices_no_repetidos),len(lista_desde_texto))"
   ]
  },
  {
   "cell_type": "code",
   "execution_count": null,
   "metadata": {},
   "outputs": [],
   "source": []
  }
 ],
 "metadata": {
  "colab": {
   "name": "semana-1.ipynb",
   "provenance": []
  },
  "kernelspec": {
   "display_name": "Python 3",
   "language": "python",
   "name": "python3"
  },
  "language_info": {
   "codemirror_mode": {
    "name": "ipython",
    "version": 3
   },
   "file_extension": ".py",
   "mimetype": "text/x-python",
   "name": "python",
   "nbconvert_exporter": "python",
   "pygments_lexer": "ipython3",
   "version": "3.8.8"
  }
 },
 "nbformat": 4,
 "nbformat_minor": 1
}
