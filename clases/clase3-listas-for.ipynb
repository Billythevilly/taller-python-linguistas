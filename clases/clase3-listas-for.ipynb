{
 "cells": [
  {
   "cell_type": "markdown",
   "metadata": {},
   "source": [
    "# **Introducción a la lingüística computacional con Python**\n",
    "### Javier Vera Zúñiga, jveraz@pucp.edu.pe\n",
    "\n",
    "## Clase 3"
   ]
  },
  {
   "cell_type": "markdown",
   "metadata": {
    "id": "Z94xIrgS63k9"
   },
   "source": [
    "## Repaso sobre listas en **Python**\n",
    "\n",
    "Usemos un string para almacenar un **[texto](https://es.wikipedia.org/wiki/Ada_Lovelace)**"
   ]
  },
  {
   "cell_type": "code",
   "execution_count": 2,
   "metadata": {},
   "outputs": [],
   "source": [
    "## copiamos y pegamos una porción del texto del link\n",
    "\n",
    "texto = 'Augusta Ada King, condesa de Lovelace, registrada al nacer como Augusta Ada Byron y conocida habitualmente como Ada Lovelace, fue una matemática y escritora británica, célebre sobre todo por su trabajo acerca de la computadora mecánica de uso general de Charles Babbage, la denominada máquina analítica. Fue la primera en reconocer que la máquina tenía aplicaciones más allá del cálculo puro y en haber publicado lo que se reconoce hoy como el primer algoritmo destinado a ser procesado por una máquina, por lo que se la considera como la primera programadora de ordenadores.'"
   ]
  },
  {
   "cell_type": "code",
   "execution_count": 3,
   "metadata": {},
   "outputs": [
    {
     "data": {
      "text/plain": [
       "'Augusta Ada King, condesa de Lovelace, registrada al nacer como Augusta Ada Byron y conocida habitualmente como Ada Lovelace, fue una matemática y escritora británica, célebre sobre todo por su trabajo acerca de la computadora mecánica de uso general de Charles Babbage, la denominada máquina analítica. Fue la primera en reconocer que la máquina tenía aplicaciones más allá del cálculo puro y en haber publicado lo que se reconoce hoy como el primer algoritmo destinado a ser procesado por una máquina, por lo que se la considera como la primera programadora de ordenadores.'"
      ]
     },
     "execution_count": 3,
     "metadata": {},
     "output_type": "execute_result"
    }
   ],
   "source": [
    "texto"
   ]
  },
  {
   "cell_type": "code",
   "execution_count": 4,
   "metadata": {},
   "outputs": [],
   "source": [
    "## transformemos un string en una lista\n",
    "\n",
    "lista_desde_texto = texto.split(' ')"
   ]
  },
  {
   "cell_type": "markdown",
   "metadata": {},
   "source": [
    "Una **lista** es esencialmente:\n",
    "- una **estructura que almacena elementos**, que pueden ser strings, números, otras listas, y muchas otras cosas;\n",
    "- de forma **ordenada!**\n",
    "El **orden** de las listas permite acceder a sus elementos mediante la posición (el índice)"
   ]
  },
  {
   "cell_type": "code",
   "execution_count": 5,
   "metadata": {},
   "outputs": [
    {
     "data": {
      "text/plain": [
       "['Augusta',\n",
       " 'Ada',\n",
       " 'King,',\n",
       " 'condesa',\n",
       " 'de',\n",
       " 'Lovelace,',\n",
       " 'registrada',\n",
       " 'al',\n",
       " 'nacer',\n",
       " 'como',\n",
       " 'Augusta',\n",
       " 'Ada',\n",
       " 'Byron',\n",
       " 'y',\n",
       " 'conocida',\n",
       " 'habitualmente',\n",
       " 'como',\n",
       " 'Ada',\n",
       " 'Lovelace,',\n",
       " 'fue',\n",
       " 'una',\n",
       " 'matemática',\n",
       " 'y',\n",
       " 'escritora',\n",
       " 'británica,',\n",
       " 'célebre',\n",
       " 'sobre',\n",
       " 'todo',\n",
       " 'por',\n",
       " 'su',\n",
       " 'trabajo',\n",
       " 'acerca',\n",
       " 'de',\n",
       " 'la',\n",
       " 'computadora',\n",
       " 'mecánica',\n",
       " 'de',\n",
       " 'uso',\n",
       " 'general',\n",
       " 'de',\n",
       " 'Charles',\n",
       " 'Babbage,',\n",
       " 'la',\n",
       " 'denominada',\n",
       " 'máquina',\n",
       " 'analítica.',\n",
       " 'Fue',\n",
       " 'la',\n",
       " 'primera',\n",
       " 'en',\n",
       " 'reconocer',\n",
       " 'que',\n",
       " 'la',\n",
       " 'máquina',\n",
       " 'tenía',\n",
       " 'aplicaciones',\n",
       " 'más',\n",
       " 'allá',\n",
       " 'del',\n",
       " 'cálculo',\n",
       " 'puro',\n",
       " 'y',\n",
       " 'en',\n",
       " 'haber',\n",
       " 'publicado',\n",
       " 'lo',\n",
       " 'que',\n",
       " 'se',\n",
       " 'reconoce',\n",
       " 'hoy',\n",
       " 'como',\n",
       " 'el',\n",
       " 'primer',\n",
       " 'algoritmo',\n",
       " 'destinado',\n",
       " 'a',\n",
       " 'ser',\n",
       " 'procesado',\n",
       " 'por',\n",
       " 'una',\n",
       " 'máquina,',\n",
       " 'por',\n",
       " 'lo',\n",
       " 'que',\n",
       " 'se',\n",
       " 'la',\n",
       " 'considera',\n",
       " 'como',\n",
       " 'la',\n",
       " 'primera',\n",
       " 'programadora',\n",
       " 'de',\n",
       " 'ordenadores.']"
      ]
     },
     "execution_count": 5,
     "metadata": {},
     "output_type": "execute_result"
    }
   ],
   "source": [
    "## ¿Cómo se ve la lista?\n",
    "lista_desde_texto"
   ]
  },
  {
   "cell_type": "code",
   "execution_count": 6,
   "metadata": {},
   "outputs": [],
   "source": [
    "## la lista tiene un primer elemento, un segundo elemento, y así sucesivamente\n",
    "\n",
    "## los índices de las listas comienzan desde 0\n",
    "primer_elemento = lista_desde_texto[0]\n",
    "\n",
    "## segundo elemento\n",
    "segundo_elemento = lista_desde_texto[1]"
   ]
  },
  {
   "cell_type": "code",
   "execution_count": 8,
   "metadata": {},
   "outputs": [
    {
     "data": {
      "text/plain": [
       "('Augusta', 'Ada')"
      ]
     },
     "execution_count": 8,
     "metadata": {},
     "output_type": "execute_result"
    }
   ],
   "source": [
    "primer_elemento, segundo_elemento"
   ]
  },
  {
   "cell_type": "code",
   "execution_count": 13,
   "metadata": {},
   "outputs": [],
   "source": [
    "## las listas tienen un largo, que podemos asignar a una variable\n",
    "\n",
    "## número de elementos de lista_desde_texto\n",
    "n = len(lista_desde_texto)"
   ]
  },
  {
   "cell_type": "code",
   "execution_count": 14,
   "metadata": {},
   "outputs": [
    {
     "data": {
      "text/plain": [
       "93"
      ]
     },
     "execution_count": 14,
     "metadata": {},
     "output_type": "execute_result"
    }
   ],
   "source": [
    "n"
   ]
  },
  {
   "cell_type": "code",
   "execution_count": 15,
   "metadata": {},
   "outputs": [],
   "source": [
    "## ¿Cuál es el índice más grande al que podemos acceder?\n",
    "\n",
    "## último elemento de la lista\n",
    "ultimo_elemento = lista_desde_texto[n-1]"
   ]
  },
  {
   "cell_type": "code",
   "execution_count": 16,
   "metadata": {},
   "outputs": [
    {
     "data": {
      "text/plain": [
       "'ordenadores.'"
      ]
     },
     "execution_count": 16,
     "metadata": {},
     "output_type": "execute_result"
    }
   ],
   "source": [
    "ultimo_elemento"
   ]
  },
  {
   "cell_type": "code",
   "execution_count": 19,
   "metadata": {},
   "outputs": [],
   "source": [
    "## ¿Cómo agregamos elementos a una lista?"
   ]
  },
  {
   "cell_type": "code",
   "execution_count": 20,
   "metadata": {},
   "outputs": [],
   "source": [
    "## manera 1: manualmente\n",
    "\n",
    "lista_texto = ['Augusta', 'Ada', 'King,']"
   ]
  },
  {
   "cell_type": "code",
   "execution_count": 21,
   "metadata": {},
   "outputs": [
    {
     "data": {
      "text/plain": [
       "['Augusta', 'Ada', 'King,']"
      ]
     },
     "execution_count": 21,
     "metadata": {},
     "output_type": "execute_result"
    }
   ],
   "source": [
    "lista_texto"
   ]
  },
  {
   "cell_type": "code",
   "execution_count": 25,
   "metadata": {},
   "outputs": [],
   "source": [
    "## manera 2: usando el signo \"+\"\n",
    "\n",
    "## comencemos con una lista vacía\n",
    "lista_texto = []"
   ]
  },
  {
   "cell_type": "code",
   "execution_count": 26,
   "metadata": {},
   "outputs": [],
   "source": [
    "## sucesivamente vamos agregando elementos\n",
    "\n",
    "## agregamos el string 'Augusta'\n",
    "lista_texto = lista_texto + ['Augusta']"
   ]
  },
  {
   "cell_type": "code",
   "execution_count": 27,
   "metadata": {},
   "outputs": [
    {
     "data": {
      "text/plain": [
       "['Augusta']"
      ]
     },
     "execution_count": 27,
     "metadata": {},
     "output_type": "execute_result"
    }
   ],
   "source": [
    "lista_texto"
   ]
  },
  {
   "cell_type": "code",
   "execution_count": 28,
   "metadata": {},
   "outputs": [],
   "source": [
    "## agregamos el string 'Ada'\n",
    "lista_texto = lista_texto + ['Ada']"
   ]
  },
  {
   "cell_type": "code",
   "execution_count": 29,
   "metadata": {},
   "outputs": [
    {
     "data": {
      "text/plain": [
       "['Augusta', 'Ada']"
      ]
     },
     "execution_count": 29,
     "metadata": {},
     "output_type": "execute_result"
    }
   ],
   "source": [
    "lista_texto"
   ]
  },
  {
   "cell_type": "code",
   "execution_count": 30,
   "metadata": {},
   "outputs": [],
   "source": [
    "## agregamos el string 'King,'\n",
    "lista_texto = lista_texto + ['King,']"
   ]
  },
  {
   "cell_type": "code",
   "execution_count": 31,
   "metadata": {},
   "outputs": [
    {
     "data": {
      "text/plain": [
       "['Augusta', 'Ada', 'King,']"
      ]
     },
     "execution_count": 31,
     "metadata": {},
     "output_type": "execute_result"
    }
   ],
   "source": [
    "lista_texto"
   ]
  },
  {
   "cell_type": "markdown",
   "metadata": {},
   "source": [
    "## Desafíos"
   ]
  },
  {
   "cell_type": "markdown",
   "metadata": {},
   "source": [
    "**Mini desafío 1**"
   ]
  },
  {
   "cell_type": "code",
   "execution_count": 62,
   "metadata": {},
   "outputs": [],
   "source": [
    "## lista vacía donde guardaremos las palabras de lista_desde_texto\n",
    "lista_texto = []\n",
    "\n",
    "## Itere las dos celdas siguientes repetidas veces. Cada vez, cambie el valor de la variable palabra por los elementos sucesivos de \n",
    "## lista_desde_texto. Usemos los índices 0, 1, 2, ..."
   ]
  },
  {
   "cell_type": "code",
   "execution_count": 63,
   "metadata": {},
   "outputs": [
    {
     "data": {
      "text/plain": [
       "'Augusta'"
      ]
     },
     "execution_count": 63,
     "metadata": {},
     "output_type": "execute_result"
    }
   ],
   "source": [
    "## palabra que agregamos: debe ir variando los índices de forma sucesiva\n",
    "palabra = lista_desde_texto[0]\n",
    "\n",
    "## qué palabra es\n",
    "palabra"
   ]
  },
  {
   "cell_type": "code",
   "execution_count": 64,
   "metadata": {},
   "outputs": [
    {
     "data": {
      "text/plain": [
       "['Augusta']"
      ]
     },
     "execution_count": 64,
     "metadata": {},
     "output_type": "execute_result"
    }
   ],
   "source": [
    "## agregamos la nueva palabra\n",
    "\n",
    "lista_texto = lista_texto + [palabra]\n",
    "\n",
    "## vemos cómo vamos\n",
    "lista_texto"
   ]
  },
  {
   "cell_type": "code",
   "execution_count": 66,
   "metadata": {},
   "outputs": [],
   "source": [
    "## ¿Qué puede observar?"
   ]
  },
  {
   "cell_type": "markdown",
   "metadata": {},
   "source": [
    "### ¿Cuántas veces aparece un elemento de una lista?"
   ]
  },
  {
   "cell_type": "code",
   "execution_count": 47,
   "metadata": {},
   "outputs": [],
   "source": [
    "## ¿Cuántas veces aparece la preposición \"de\" en la lista lista_desde_string?\n",
    "\n",
    "## usamos .count\n",
    "numero_veces = lista_desde_texto.count('de')"
   ]
  },
  {
   "cell_type": "code",
   "execution_count": 48,
   "metadata": {},
   "outputs": [
    {
     "data": {
      "text/plain": [
       "5"
      ]
     },
     "execution_count": 48,
     "metadata": {},
     "output_type": "execute_result"
    }
   ],
   "source": [
    "numero_veces"
   ]
  },
  {
   "cell_type": "code",
   "execution_count": 68,
   "metadata": {},
   "outputs": [],
   "source": [
    "## Ahora, una pregunta un poco más general: ¿Será posible \"recorrer\" la lista lista_desde_string para contar cuantas\n",
    "## veces aparece cada palabra?\n",
    "\n",
    "## lista vacía donde guardaremos el número de veces que aparece cada palabra de lista_desde_texto\n",
    "lista_numero_veces = []\n",
    "\n",
    "## Itere las dos celdas siguientes repetidas veces. Cada vez, cambie el valor de la variable palabra por los elementos sucesivos de \n",
    "## lista_desde_texto. Usemos los índices 0, 1, 2, ..."
   ]
  },
  {
   "cell_type": "code",
   "execution_count": 73,
   "metadata": {},
   "outputs": [
    {
     "name": "stdout",
     "output_type": "stream",
     "text": [
      "Ada\n",
      "3\n"
     ]
    }
   ],
   "source": [
    "## palabra que agregamos: debe ir variando los índices de forma sucesiva\n",
    "palabra = lista_desde_texto[1]\n",
    "\n",
    "## qué palabra es\n",
    "print(palabra)\n",
    "\n",
    "## contamos usando .count\n",
    "numero_veces = lista_desde_texto.count(palabra)\n",
    "\n",
    "## cuántas veces\n",
    "print(numero_veces)"
   ]
  },
  {
   "cell_type": "code",
   "execution_count": 74,
   "metadata": {},
   "outputs": [
    {
     "data": {
      "text/plain": [
       "[2, 3]"
      ]
     },
     "execution_count": 74,
     "metadata": {},
     "output_type": "execute_result"
    }
   ],
   "source": [
    "## agregamos el número de veces\n",
    "\n",
    "lista_numero_veces = lista_numero_veces + [numero_veces]\n",
    "\n",
    "## vemos cómo vamos\n",
    "lista_numero_veces"
   ]
  },
  {
   "cell_type": "code",
   "execution_count": null,
   "metadata": {},
   "outputs": [],
   "source": []
  }
 ],
 "metadata": {
  "colab": {
   "name": "semana-1.ipynb",
   "provenance": []
  },
  "kernelspec": {
   "display_name": "Python 3",
   "language": "python",
   "name": "python3"
  },
  "language_info": {
   "codemirror_mode": {
    "name": "ipython",
    "version": 3
   },
   "file_extension": ".py",
   "mimetype": "text/x-python",
   "name": "python",
   "nbconvert_exporter": "python",
   "pygments_lexer": "ipython3",
   "version": "3.8.8"
  }
 },
 "nbformat": 4,
 "nbformat_minor": 1
}
