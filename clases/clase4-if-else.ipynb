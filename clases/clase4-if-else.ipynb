{
 "cells": [
  {
   "cell_type": "markdown",
   "metadata": {},
   "source": [
    "# **Introducción a la lingüística computacional con Python**\n",
    "### Javier Vera Zúñiga, jveraz@pucp.edu.pe\n",
    "\n",
    "## Clase 4\n",
    "[Link interesante](https://kawennonnis.ca/wordmaker), [un paper](https://aclanthology.org/W18-4806.pdf) y dos problemas!\n",
    "\n",
    "- **Problema 1.** Reconocer palabras que terminan en vocal. \n",
    "- **Problema 2.** Identificar las palabras únicas de un texto.  "
   ]
  },
  {
   "cell_type": "markdown",
   "metadata": {},
   "source": [
    "### Problema 1. Reconocer palabras que terminan en vocal. \n",
    "¿Por qué este problema es importante? si vemos los números en Quechua, de la lista de más abajo, las terminaciones en consonante, como en **chunka pusaq-ni-yuq** suponen agregar la partícula **ni**, a diferencia de otros casos, como **chunka kimsa-yuq.** ¿Qué herramienta de **Python** nos serviría para reconocer este tipo de casos?"
   ]
  },
  {
   "cell_type": "code",
   "execution_count": 1,
   "metadata": {},
   "outputs": [],
   "source": [
    "## números del 1 al 20\n",
    "\n",
    "lista_numeros_1_20 = ['huk', 'iskay', 'kimsa', 'tawa', 'pichqa', 'suqta', 'qanchis', 'pusaq', 'isqun', 'chunka',\n",
    "'chunka huk-ni-yuq', 'chunka iskay-ni-yuq', 'chunka kimsa-yuq', 'chunka tawa-yuq', 'chunka pichqa-yuq',\n",
    "'chunka suqta-yuq', 'chunka qanchis-ni-yuq', 'chunka pusaq-ni-yuq', 'chunka isqun-ni-yuq', 'iskay chunka']"
   ]
  },
  {
   "cell_type": "markdown",
   "metadata": {},
   "source": [
    "En esto, aparece una condición del tipo **si-entonces**. En otras palabras, para un número entre 11 y 19, dependiendo si la palabra que expresa la unidad (o sea, 1 a 9) termine en consonante, o vocal, tendremos una consecuencia. En **Python**, usamos **if-else.**"
   ]
  },
  {
   "cell_type": "code",
   "execution_count": 2,
   "metadata": {},
   "outputs": [],
   "source": [
    "## definamos el conjunto de vocales\n",
    "\n",
    "vocales = ['a', 'e', 'i', 'o', 'u']"
   ]
  },
  {
   "cell_type": "markdown",
   "metadata": {},
   "source": [
    "¿Cómo podríamos decir si un string termina en alguno de los caracteres de la lista **vocales**?"
   ]
  },
  {
   "cell_type": "code",
   "execution_count": 3,
   "metadata": {},
   "outputs": [],
   "source": [
    "## definimos dos variables\n",
    "\n",
    "string_uno = 'huk'\n",
    "string_tres = 'kimsa'"
   ]
  },
  {
   "cell_type": "code",
   "execution_count": 4,
   "metadata": {},
   "outputs": [],
   "source": [
    "## ¿Cómo extraemos el caracter final de un string?\n",
    "\n",
    "## forma 1: truco de strings en Python\n",
    "caracter_final_uno = string_uno[-1]\n",
    "\n",
    "## forma 2: acceso de los índices\n",
    "caracter_final_uno = string_uno[len(string_uno)-1]\n",
    "\n",
    "## forma 1: truco de strings en Python\n",
    "caracter_final_tres = string_tres[-1]\n",
    "\n",
    "## forma 2: acceso de los índices\n",
    "caracter_final_tres = string_tres[len(string_tres)-1]"
   ]
  },
  {
   "cell_type": "code",
   "execution_count": 5,
   "metadata": {},
   "outputs": [
    {
     "data": {
      "text/plain": [
       "'k'"
      ]
     },
     "execution_count": 5,
     "metadata": {},
     "output_type": "execute_result"
    }
   ],
   "source": [
    "caracter_final_uno"
   ]
  },
  {
   "cell_type": "code",
   "execution_count": 6,
   "metadata": {},
   "outputs": [
    {
     "data": {
      "text/plain": [
       "'a'"
      ]
     },
     "execution_count": 6,
     "metadata": {},
     "output_type": "execute_result"
    }
   ],
   "source": [
    "caracter_final_tres"
   ]
  },
  {
   "cell_type": "markdown",
   "metadata": {},
   "source": [
    "Supongamos que queremos formar número entre 11 y 19. Estos tienen la forma chunka + unidad+(-ni)-yuq, dependiendo si la unidad termina o no en vocal"
   ]
  },
  {
   "cell_type": "code",
   "execution_count": 7,
   "metadata": {},
   "outputs": [],
   "source": [
    "## formemos primero un número provisorio\n",
    "\n",
    "## 11\n",
    "string_numero = 'chunka huk'\n",
    "\n",
    "## usamos if-else\n",
    "## si la palabra termina en vocal\n",
    "if string_numero[-1] in vocales:\n",
    "    ## agregamos -ni-yuq\n",
    "    string_numero = string_numero + '-yuq'\n",
    "## en otro caso, es decir, si termina en consonante\n",
    "else:\n",
    "    string_numero = string_numero + '-ni-yuq'"
   ]
  },
  {
   "cell_type": "code",
   "execution_count": 8,
   "metadata": {},
   "outputs": [
    {
     "data": {
      "text/plain": [
       "'chunka huk-ni-yuq'"
      ]
     },
     "execution_count": 8,
     "metadata": {},
     "output_type": "execute_result"
    }
   ],
   "source": [
    "string_numero"
   ]
  },
  {
   "cell_type": "code",
   "execution_count": 9,
   "metadata": {},
   "outputs": [
    {
     "name": "stdout",
     "output_type": "stream",
     "text": [
      "huk termina en consonante\n",
      "iskay termina en consonante\n",
      "kimsa termina en vocal\n",
      "tawa termina en vocal\n",
      "pichqa termina en vocal\n",
      "suqta termina en vocal\n",
      "qanchis termina en consonante\n",
      "pusaq termina en consonante\n",
      "isqun termina en consonante\n"
     ]
    }
   ],
   "source": [
    "## otra versión, mezclando con ciclo for\n",
    "## Recordemos que los ciclos for nos permiten recorrer una lista\n",
    "\n",
    "## número del 1 al 9\n",
    "for string_numero in ['huk', 'iskay', 'kimsa', 'tawa', 'pichqa', 'suqta', 'qanchis', 'pusaq', 'isqun']:\n",
    "    ## digamos \"termina en vocal\" o \"termina en consonante\" para cada string\n",
    "    ## si la palabra termina en vocal\n",
    "    if string_numero[-1] in vocales:\n",
    "        print(string_numero, 'termina en vocal')\n",
    "    else:\n",
    "        print(string_numero, 'termina en consonante')"
   ]
  },
  {
   "cell_type": "code",
   "execution_count": 10,
   "metadata": {},
   "outputs": [],
   "source": [
    "## un problema relacionado: ¿Cómo eliminamos puntuación en un string?\n",
    "\n",
    "## lista de puntuaciones\n",
    "puntuacion = ['.', ',']\n",
    "\n",
    "## ejemplo\n",
    "string_punt = 'casa.'\n",
    "\n",
    "## usamos nuevamente if-else\n",
    "## si termina con un signo de puntuación\n",
    "if string_punt[-1] in puntuacion:\n",
    "    ## borramos el caracter final\n",
    "    string_punt = string_punt[:-1]"
   ]
  },
  {
   "cell_type": "code",
   "execution_count": 11,
   "metadata": {},
   "outputs": [
    {
     "data": {
      "text/plain": [
       "'casa'"
      ]
     },
     "execution_count": 11,
     "metadata": {},
     "output_type": "execute_result"
    }
   ],
   "source": [
    "string_punt"
   ]
  },
  {
   "cell_type": "code",
   "execution_count": 12,
   "metadata": {},
   "outputs": [],
   "source": [
    "## ¿y si tenemos una lista de string?\n",
    "\n",
    "## lista de string con problemas de puntuación\n",
    "lista_strings = ['Augusta', 'Ada', 'King,', 'condesa', 'de', 'Lovelace,']\n",
    "\n",
    "## lista con strings filtrados\n",
    "lista_strings_filtrados = []\n",
    "\n",
    "## recorremos los strings\n",
    "for string in lista_strings:\n",
    "    ## si terminan en puntuación\n",
    "    if string[-1] in puntuacion:\n",
    "        ## borramos el caracter final\n",
    "        string = string[:-1]\n",
    "    ## guardamos\n",
    "    lista_strings_filtrados = lista_strings_filtrados + [string]"
   ]
  },
  {
   "cell_type": "code",
   "execution_count": 13,
   "metadata": {},
   "outputs": [
    {
     "data": {
      "text/plain": [
       "['Augusta', 'Ada', 'King', 'condesa', 'de', 'Lovelace']"
      ]
     },
     "execution_count": 13,
     "metadata": {},
     "output_type": "execute_result"
    }
   ],
   "source": [
    "lista_strings_filtrados"
   ]
  },
  {
   "cell_type": "markdown",
   "metadata": {
    "id": "Z94xIrgS63k9"
   },
   "source": [
    "### Problema 2. Identificar las palabras únicas de un texto. \n",
    "¿Por qué este problema es importante? Si identificamos las palabras únicas de un texto, los **types**, podemos el número de veces que aparecen (los **tokens**). "
   ]
  },
  {
   "cell_type": "code",
   "execution_count": 14,
   "metadata": {},
   "outputs": [],
   "source": [
    "## lista de strings\n",
    "\n",
    "texto = ['Augusta',\n",
    " 'Ada',\n",
    " 'King,',\n",
    " 'condesa',\n",
    " 'de',\n",
    " 'Lovelace,',\n",
    " 'registrada',\n",
    " 'al',\n",
    " 'nacer',\n",
    " 'como',\n",
    " 'Augusta',\n",
    " 'Ada',\n",
    " 'Byron',\n",
    " 'y',\n",
    " 'conocida',\n",
    " 'habitualmente',\n",
    " 'como',\n",
    " 'Ada',\n",
    " 'Lovelace,',\n",
    " 'fue',\n",
    " 'una',\n",
    " 'matemática',\n",
    " 'y',\n",
    " 'escritora',\n",
    " 'británica,',\n",
    " 'célebre',\n",
    " 'sobre',\n",
    " 'todo',\n",
    " 'por',\n",
    " 'su',\n",
    " 'trabajo',\n",
    " 'acerca',\n",
    " 'de',\n",
    " 'la',\n",
    " 'computadora',\n",
    " 'mecánica',\n",
    " 'de',\n",
    " 'uso',\n",
    " 'general',\n",
    " 'de',\n",
    " 'Charles',\n",
    " 'Babbage,',\n",
    " 'la',\n",
    " 'denominada',\n",
    " 'máquina',\n",
    " 'analítica.',\n",
    " 'Fue',\n",
    " 'la',\n",
    " 'primera',\n",
    " 'en',\n",
    " 'reconocer',\n",
    " 'que',\n",
    " 'la',\n",
    " 'máquina',\n",
    " 'tenía',\n",
    " 'aplicaciones',\n",
    " 'más',\n",
    " 'allá',\n",
    " 'del',\n",
    " 'cálculo',\n",
    " 'puro',\n",
    " 'y',\n",
    " 'en',\n",
    " 'haber',\n",
    " 'publicado',\n",
    " 'lo',\n",
    " 'que',\n",
    " 'se',\n",
    " 'reconoce',\n",
    " 'hoy',\n",
    " 'como',\n",
    " 'el',\n",
    " 'primer',\n",
    " 'algoritmo',\n",
    " 'destinado',\n",
    " 'a',\n",
    " 'ser',\n",
    " 'procesado',\n",
    " 'por',\n",
    " 'una',\n",
    " 'máquina,',\n",
    " 'por',\n",
    " 'lo',\n",
    " 'que',\n",
    " 'se',\n",
    " 'la',\n",
    " 'considera',\n",
    " 'como',\n",
    " 'la',\n",
    " 'primera',\n",
    " 'programadora',\n",
    " 'de',\n",
    " 'ordenadores.']"
   ]
  },
  {
   "cell_type": "code",
   "execution_count": 15,
   "metadata": {},
   "outputs": [],
   "source": [
    "## primero, versión filtrada\n",
    "\n",
    "## lista vacía\n",
    "texto_filtrado = []\n",
    "\n",
    "## recorremos la lista\n",
    "for palabra in texto:\n",
    "    ## si termina en puntuación\n",
    "    if palabra[-1] in puntuacion:\n",
    "        ## borramos el caracter final\n",
    "        palabra = palabra[:-1]\n",
    "    ## palabra en minúscula\n",
    "    palabra = palabra.lower()\n",
    "    ## guardamos\n",
    "    texto_filtrado = texto_filtrado + [palabra]"
   ]
  },
  {
   "cell_type": "code",
   "execution_count": 16,
   "metadata": {},
   "outputs": [
    {
     "data": {
      "text/plain": [
       "['augusta',\n",
       " 'ada',\n",
       " 'king',\n",
       " 'condesa',\n",
       " 'de',\n",
       " 'lovelace',\n",
       " 'registrada',\n",
       " 'al',\n",
       " 'nacer',\n",
       " 'como']"
      ]
     },
     "execution_count": 16,
     "metadata": {},
     "output_type": "execute_result"
    }
   ],
   "source": [
    "texto_filtrado[:10]"
   ]
  },
  {
   "cell_type": "code",
   "execution_count": 17,
   "metadata": {},
   "outputs": [],
   "source": [
    "## lista palabras únicas\n",
    "palabras_unicas = []\n",
    "\n",
    "## recorremos las palabras\n",
    "for palabra in texto_filtrado:\n",
    "    ## si no está, la agregamos\n",
    "    if palabra not in palabras_unicas:\n",
    "        ## agregamos la palabra\n",
    "        palabras_unicas = palabras_unicas + [palabra]"
   ]
  },
  {
   "cell_type": "code",
   "execution_count": 18,
   "metadata": {},
   "outputs": [
    {
     "data": {
      "text/plain": [
       "(93, 63)"
      ]
     },
     "execution_count": 18,
     "metadata": {},
     "output_type": "execute_result"
    }
   ],
   "source": [
    "len(texto_filtrado),len(palabras_unicas)"
   ]
  },
  {
   "cell_type": "markdown",
   "metadata": {},
   "source": [
    "¿Cómo usamos esto para describir las frecuencias de palabras de un texto?"
   ]
  },
  {
   "cell_type": "code",
   "execution_count": null,
   "metadata": {},
   "outputs": [],
   "source": []
  },
  {
   "cell_type": "code",
   "execution_count": null,
   "metadata": {},
   "outputs": [],
   "source": []
  }
 ],
 "metadata": {
  "colab": {
   "name": "semana-1.ipynb",
   "provenance": []
  },
  "kernelspec": {
   "display_name": "Python 3",
   "language": "python",
   "name": "python3"
  },
  "language_info": {
   "codemirror_mode": {
    "name": "ipython",
    "version": 3
   },
   "file_extension": ".py",
   "mimetype": "text/x-python",
   "name": "python",
   "nbconvert_exporter": "python",
   "pygments_lexer": "ipython3",
   "version": "3.8.8"
  }
 },
 "nbformat": 4,
 "nbformat_minor": 1
}
