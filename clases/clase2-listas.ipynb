{
 "cells": [
  {
   "cell_type": "markdown",
   "metadata": {},
   "source": [
    "# **Introducción a la lingüística computacional con Python**\n",
    "### Javier Vera Zúñiga, jveraz@pucp.edu.pe\n",
    "\n",
    "## Clase 2"
   ]
  },
  {
   "cell_type": "markdown",
   "metadata": {},
   "source": [
    "## (Repaso sobre) variables en Python"
   ]
  },
  {
   "cell_type": "markdown",
   "metadata": {},
   "source": [
    "### Tipos de variables"
   ]
  },
  {
   "cell_type": "markdown",
   "metadata": {},
   "source": [
    "**1. Strings.**  Si tenemos dos variables de tipo string, por ejemplo,\n",
    "\n",
    "```python\n",
    "palabra1 = 'Lima'\n",
    "palabra2 = 'Santiago'\n",
    "```\n",
    "estamos diciendo que las variables \n",
    "\n",
    "```python\n",
    "palabra1 \n",
    "```\n",
    "y\n",
    "\n",
    "```python\n",
    "palabra2 \n",
    "```\n",
    "contienen, almacenan, indican o valen el string que está a la derecha del signo \"=\". **Recuerden!** El signo \"=\" nunca indica igualdad; es más bien una indicación de que lo que ocurre a la derecha de \"=\" se asigna a la variable que está a la izquierda de \"=\". En **Python**, las líneas de código se leen de arriba hacia abajo y de derecha a izquierda. Con estas ideas, podemos concatenarlos (pegarlas) usando:"
   ]
  },
  {
   "cell_type": "code",
   "execution_count": 95,
   "metadata": {},
   "outputs": [],
   "source": [
    "## dos variables de tipo string\n",
    "palabra1 = 'Lima'\n",
    "palabra2 = 'Santiago'\n",
    "\n",
    "## concatenamos los strings, y con esto definimos una nueva variable\n",
    "palabra3 = palabra1 + palabra2"
   ]
  },
  {
   "cell_type": "code",
   "execution_count": 96,
   "metadata": {},
   "outputs": [
    {
     "data": {
      "text/plain": [
       "'LimaSantiago'"
      ]
     },
     "execution_count": 96,
     "metadata": {},
     "output_type": "execute_result"
    }
   ],
   "source": [
    "palabra3"
   ]
  },
  {
   "cell_type": "markdown",
   "metadata": {},
   "source": [
    "**2. Números.** Los números tienen dos variantes:\n",
    "\n",
    "- **enteros** como 0, 1 o -342\n",
    "    ```python\n",
    "    a = 1\n",
    "    b = 2\n",
    "    ```\n",
    "- **reales** como 1.1 o -0.01\n",
    "    ```python\n",
    "    a = 1.1\n",
    "    b = -0.1\n",
    "    ```\n",
    "    \n",
    "Como es esperable, podemos sumar los números:\n",
    "\n",
    "```python\n",
    "suma = a + b\n",
    "```\n",
    "\n",
    "¿Qué es \"+\"? ¿Qué puede concluir? Pueden realizarse todas las operaciones posibles, pruebe usando \"*\" y \"/\""
   ]
  },
  {
   "cell_type": "code",
   "execution_count": 97,
   "metadata": {},
   "outputs": [],
   "source": [
    "## dos variables de tipo (número) entero\n",
    "\n",
    "a = 1\n",
    "b = 2"
   ]
  },
  {
   "cell_type": "code",
   "execution_count": 98,
   "metadata": {},
   "outputs": [],
   "source": [
    "## sumamos los números, y con esto definimos una nueva variable\n",
    "\n",
    "suma = a + b"
   ]
  },
  {
   "cell_type": "code",
   "execution_count": 99,
   "metadata": {},
   "outputs": [
    {
     "data": {
      "text/plain": [
       "3"
      ]
     },
     "execution_count": 99,
     "metadata": {},
     "output_type": "execute_result"
    }
   ],
   "source": [
    "suma"
   ]
  },
  {
   "cell_type": "markdown",
   "metadata": {},
   "source": [
    "### Operaciones entre variables"
   ]
  },
  {
   "cell_type": "markdown",
   "metadata": {},
   "source": [
    "Para variables de tipo **string** y **número** (por el momento), podemos \"sumar\" usando el signo \"+\". Según sean **strings** o **números** el signo \"+\" va a tomar un significado diferente. "
   ]
  },
  {
   "cell_type": "code",
   "execution_count": 100,
   "metadata": {},
   "outputs": [],
   "source": [
    "## dos variables, de tipo string y número\n",
    "\n",
    "## variable de tipo string\n",
    "variable_string = 'café'\n",
    "\n",
    "## variable de tipo número\n",
    "variable_numero = 2"
   ]
  },
  {
   "cell_type": "code",
   "execution_count": 101,
   "metadata": {},
   "outputs": [],
   "source": [
    "## usamos el signo +\n",
    "\n",
    "## concatenamos un string\n",
    "variable_string = variable_string + ' con azúcar'"
   ]
  },
  {
   "cell_type": "code",
   "execution_count": 102,
   "metadata": {},
   "outputs": [
    {
     "data": {
      "text/plain": [
       "'café con azúcar'"
      ]
     },
     "execution_count": 102,
     "metadata": {},
     "output_type": "execute_result"
    }
   ],
   "source": [
    "variable_string"
   ]
  },
  {
   "cell_type": "code",
   "execution_count": 103,
   "metadata": {},
   "outputs": [],
   "source": [
    "## sumamos un número a variable_numero\n",
    "\n",
    "variable_numero = variable_numero + 1"
   ]
  },
  {
   "cell_type": "code",
   "execution_count": 104,
   "metadata": {},
   "outputs": [
    {
     "data": {
      "text/plain": [
       "3"
      ]
     },
     "execution_count": 104,
     "metadata": {},
     "output_type": "execute_result"
    }
   ],
   "source": [
    "variable_numero"
   ]
  },
  {
   "cell_type": "markdown",
   "metadata": {},
   "source": [
    "## Desafíos en clases\n",
    "**Recomendación.** Defina las variables que sean necesarias para resolver los desafíos. "
   ]
  },
  {
   "cell_type": "markdown",
   "metadata": {},
   "source": [
    "**Mini desafío 1**"
   ]
  },
  {
   "cell_type": "code",
   "execution_count": 105,
   "metadata": {},
   "outputs": [],
   "source": [
    "## 31 se escribe kimsa chunka huk-ni-yuq\n",
    "## 33 se escribe kimsa chunka kimsa-yuq\n",
    "## Reemplace caracteres para transformar un string en el otro\n",
    "\n",
    "string_31 = 'kimsa chunka huk-ni-yuq'\n",
    "string_33 = 'kimsa chunka kimsa-yuq'"
   ]
  },
  {
   "cell_type": "markdown",
   "metadata": {},
   "source": [
    "**Mini desafío 2**"
   ]
  },
  {
   "cell_type": "code",
   "execution_count": 106,
   "metadata": {},
   "outputs": [],
   "source": [
    "## Encuentre el número de veces que aparece cada caracter de string_ciudad\n",
    "## Sume todas las veces que aparece cada caracter de string_ciudad\n",
    "## ¿A qué equivale esta suma?\n",
    "\n",
    "string_ciudad = 'Santiago'"
   ]
  },
  {
   "cell_type": "markdown",
   "metadata": {
    "id": "Z94xIrgS63k9"
   },
   "source": [
    "## Una primera mirada a las listas en **Python**\n",
    "\n",
    "Algunas ideas sobre textos en **Python.** Usemos un string para almacenar un **[texto](https://es.wikipedia.org/wiki/Ada_Lovelace)**"
   ]
  },
  {
   "cell_type": "code",
   "execution_count": 14,
   "metadata": {},
   "outputs": [],
   "source": [
    "## copiamos y pegamos una porción del texto del link\n",
    "\n",
    "texto = 'Augusta Ada King, condesa de Lovelace, registrada al nacer como Augusta Ada Byron y conocida habitualmente como Ada Lovelace, fue una matemática y escritora británica, célebre sobre todo por su trabajo acerca de la computadora mecánica de uso general de Charles Babbage, la denominada máquina analítica. Fue la primera en reconocer que la máquina tenía aplicaciones más allá del cálculo puro y en haber publicado lo que se reconoce hoy como el primer algoritmo destinado a ser procesado por una máquina, por lo que se la considera como la primera programadora de ordenadores.'"
   ]
  },
  {
   "cell_type": "code",
   "execution_count": 16,
   "metadata": {},
   "outputs": [
    {
     "data": {
      "text/plain": [
       "'Augusta Ada King, condesa de Lovelace, registrada al nacer como Augusta Ada Byron y conocida habitualmente como Ada Lovelace, fue una matemática y escritora británica, célebre sobre todo por su trabajo acerca de la computadora mecánica de uso general de Charles Babbage, la denominada máquina analítica. Fue la primera en reconocer que la máquina tenía aplicaciones más allá del cálculo puro y en haber publicado lo que se reconoce hoy como el primer algoritmo destinado a ser procesado por una máquina, por lo que se la considera como la primera programadora de ordenadores.'"
      ]
     },
     "execution_count": 16,
     "metadata": {},
     "output_type": "execute_result"
    }
   ],
   "source": [
    "texto"
   ]
  },
  {
   "cell_type": "markdown",
   "metadata": {},
   "source": [
    "Como **lingüistas computacionales**, podríamos preguntarnos varias cosas:\n",
    "    \n",
    "- ¿Qué es una **palabra** para un computador? \n",
    "- Dada una definición de palabra, ¿Cómo podemos **contar el número de veces** que aparece una palabra en un texto?\n",
    "- ¿Existe alguna **estructura** que permita **almacenar las palabras de un texto?**\n",
    "\n",
    "Los **textos**, como el ejemplo, **exhiben dos aspectos esenciales:**\n",
    "\n",
    "- Los espacios en blanco definen **\"aproximadamente\" palabras**; y\n",
    "- Las **palabras aparecen secuencialmente**, a medida que transcurre el tiempo: existe una primera palabra, una segunda, y así sucesivamente. "
   ]
  },
  {
   "cell_type": "code",
   "execution_count": 15,
   "metadata": {},
   "outputs": [],
   "source": [
    "## usemos una función de los strings en Python\n",
    "\n",
    "## en esta línea, transformamos el string \"texto\" en una lista formada por los strings que aparecen al \"cortar\" por lo espacios\n",
    "## en blanco\n",
    "lista_desde_texto = texto.split(' ')"
   ]
  },
  {
   "cell_type": "code",
   "execution_count": 17,
   "metadata": {},
   "outputs": [
    {
     "data": {
      "text/plain": [
       "['Augusta',\n",
       " 'Ada',\n",
       " 'King,',\n",
       " 'condesa',\n",
       " 'de',\n",
       " 'Lovelace,',\n",
       " 'registrada',\n",
       " 'al',\n",
       " 'nacer',\n",
       " 'como',\n",
       " 'Augusta',\n",
       " 'Ada',\n",
       " 'Byron',\n",
       " 'y',\n",
       " 'conocida',\n",
       " 'habitualmente',\n",
       " 'como',\n",
       " 'Ada',\n",
       " 'Lovelace,',\n",
       " 'fue',\n",
       " 'una',\n",
       " 'matemática',\n",
       " 'y',\n",
       " 'escritora',\n",
       " 'británica,',\n",
       " 'célebre',\n",
       " 'sobre',\n",
       " 'todo',\n",
       " 'por',\n",
       " 'su',\n",
       " 'trabajo',\n",
       " 'acerca',\n",
       " 'de',\n",
       " 'la',\n",
       " 'computadora',\n",
       " 'mecánica',\n",
       " 'de',\n",
       " 'uso',\n",
       " 'general',\n",
       " 'de',\n",
       " 'Charles',\n",
       " 'Babbage,',\n",
       " 'la',\n",
       " 'denominada',\n",
       " 'máquina',\n",
       " 'analítica.',\n",
       " 'Fue',\n",
       " 'la',\n",
       " 'primera',\n",
       " 'en',\n",
       " 'reconocer',\n",
       " 'que',\n",
       " 'la',\n",
       " 'máquina',\n",
       " 'tenía',\n",
       " 'aplicaciones',\n",
       " 'más',\n",
       " 'allá',\n",
       " 'del',\n",
       " 'cálculo',\n",
       " 'puro',\n",
       " 'y',\n",
       " 'en',\n",
       " 'haber',\n",
       " 'publicado',\n",
       " 'lo',\n",
       " 'que',\n",
       " 'se',\n",
       " 'reconoce',\n",
       " 'hoy',\n",
       " 'como',\n",
       " 'el',\n",
       " 'primer',\n",
       " 'algoritmo',\n",
       " 'destinado',\n",
       " 'a',\n",
       " 'ser',\n",
       " 'procesado',\n",
       " 'por',\n",
       " 'una',\n",
       " 'máquina,',\n",
       " 'por',\n",
       " 'lo',\n",
       " 'que',\n",
       " 'se',\n",
       " 'la',\n",
       " 'considera',\n",
       " 'como',\n",
       " 'la',\n",
       " 'primera',\n",
       " 'programadora',\n",
       " 'de',\n",
       " 'ordenadores.']"
      ]
     },
     "execution_count": 17,
     "metadata": {},
     "output_type": "execute_result"
    }
   ],
   "source": [
    "## veamos qué hay adentro de lista_desde_texto\n",
    "## ¿Qué podemos observar?\n",
    "\n",
    "lista_desde_texto"
   ]
  },
  {
   "cell_type": "markdown",
   "metadata": {},
   "source": [
    "**¿Observaciones?**\n",
    "\n",
    "- Cada palabra del string original ocupa un espacio entre comas en la **lista** \n",
    "- Los elementos de la lista tienen el mismo orden del texto!"
   ]
  },
  {
   "cell_type": "markdown",
   "metadata": {},
   "source": [
    "### ¿Cómo accedemos a elementos de listas?"
   ]
  },
  {
   "cell_type": "code",
   "execution_count": 18,
   "metadata": {},
   "outputs": [],
   "source": [
    "## ¿Cuántos elementos tiene la lista?\n",
    "\n",
    "## usamos la palabra mágica \"len\"; noten que toma un color verdoso\n",
    "n = len(lista_desde_texto)"
   ]
  },
  {
   "cell_type": "code",
   "execution_count": 20,
   "metadata": {},
   "outputs": [
    {
     "data": {
      "text/plain": [
       "93"
      ]
     },
     "execution_count": 20,
     "metadata": {},
     "output_type": "execute_result"
    }
   ],
   "source": [
    "## decimos que el texto original tiene 93 tokens\n",
    "\n",
    "n"
   ]
  },
  {
   "cell_type": "code",
   "execution_count": 24,
   "metadata": {},
   "outputs": [],
   "source": [
    "## ¿Cómo accedemos a los elementos de la lista? Noten que ocurre algo raro\n",
    "\n",
    "## elegimos una posición, que puede ser 0\n",
    "posicion = 0\n",
    "\n",
    "## creamos una variable para una cierta posición en la lista\n",
    "palabra = lista_desde_texto[posicion]"
   ]
  },
  {
   "cell_type": "code",
   "execution_count": 25,
   "metadata": {},
   "outputs": [
    {
     "data": {
      "text/plain": [
       "'Augusta'"
      ]
     },
     "execution_count": 25,
     "metadata": {},
     "output_type": "execute_result"
    }
   ],
   "source": [
    "## esta variable va a depender del índice o posición\n",
    "\n",
    "palabra"
   ]
  },
  {
   "cell_type": "code",
   "execution_count": 26,
   "metadata": {},
   "outputs": [],
   "source": [
    "## ¿Qué pasa si vamos accediendo a números más grandes?\n",
    "\n",
    "# elegimos una posición, que puede ser 0\n",
    "posicion = 1\n",
    "\n",
    "## creamos una variable para una cierta posición en la lista\n",
    "palabra = lista_desde_texto[posicion]"
   ]
  },
  {
   "cell_type": "code",
   "execution_count": 27,
   "metadata": {},
   "outputs": [
    {
     "data": {
      "text/plain": [
       "'Ada'"
      ]
     },
     "execution_count": 27,
     "metadata": {},
     "output_type": "execute_result"
    }
   ],
   "source": [
    "palabra"
   ]
  },
  {
   "cell_type": "code",
   "execution_count": 28,
   "metadata": {},
   "outputs": [
    {
     "ename": "IndexError",
     "evalue": "list index out of range",
     "output_type": "error",
     "traceback": [
      "\u001b[1;31m---------------------------------------------------------------------------\u001b[0m",
      "\u001b[1;31mIndexError\u001b[0m                                Traceback (most recent call last)",
      "\u001b[1;32m<ipython-input-28-24c1b48baada>\u001b[0m in \u001b[0;36m<module>\u001b[1;34m\u001b[0m\n\u001b[0;32m      6\u001b[0m \u001b[1;33m\u001b[0m\u001b[0m\n\u001b[0;32m      7\u001b[0m \u001b[1;31m## creamos una variable para una cierta posición en la lista\u001b[0m\u001b[1;33m\u001b[0m\u001b[1;33m\u001b[0m\u001b[1;33m\u001b[0m\u001b[0m\n\u001b[1;32m----> 8\u001b[1;33m \u001b[0mpalabra\u001b[0m \u001b[1;33m=\u001b[0m \u001b[0mlista_desde_texto\u001b[0m\u001b[1;33m[\u001b[0m\u001b[0mposicion\u001b[0m\u001b[1;33m]\u001b[0m\u001b[1;33m\u001b[0m\u001b[1;33m\u001b[0m\u001b[0m\n\u001b[0m",
      "\u001b[1;31mIndexError\u001b[0m: list index out of range"
     ]
    }
   ],
   "source": [
    "## ¿Cuál es el índice más grande al que podemos acceder en la lista?\n",
    "\n",
    "## un error!\n",
    "# elegimos el largo de la lista\n",
    "posicion = n\n",
    "\n",
    "## creamos una variable para una cierta posición en la lista\n",
    "palabra = lista_desde_texto[posicion]"
   ]
  },
  {
   "cell_type": "code",
   "execution_count": 29,
   "metadata": {},
   "outputs": [],
   "source": [
    "## ¿Qué aprendemos del error anterior?\n",
    "## el máximo índice es el largo de la lista menos 1, es decir, n - 1\n",
    "\n",
    "# elegimos el largo de la lista menos 1\n",
    "posicion = n - 1\n",
    "\n",
    "## creamos una variable para una cierta posición en la lista\n",
    "palabra = lista_desde_texto[posicion]"
   ]
  },
  {
   "cell_type": "code",
   "execution_count": 31,
   "metadata": {},
   "outputs": [
    {
     "data": {
      "text/plain": [
       "'ordenadores.'"
      ]
     },
     "execution_count": 31,
     "metadata": {},
     "output_type": "execute_result"
    }
   ],
   "source": [
    "## la última palabra del texto\n",
    "\n",
    "palabra"
   ]
  },
  {
   "cell_type": "markdown",
   "metadata": {},
   "source": [
    "Es decir, para una lista de largo **n** podemos acceder a los elementos de índices menores o iguales a **n - 1.**"
   ]
  },
  {
   "cell_type": "code",
   "execution_count": 33,
   "metadata": {},
   "outputs": [
    {
     "ename": "IndexError",
     "evalue": "list index out of range",
     "output_type": "error",
     "traceback": [
      "\u001b[1;31m---------------------------------------------------------------------------\u001b[0m",
      "\u001b[1;31mIndexError\u001b[0m                                Traceback (most recent call last)",
      "\u001b[1;32m<ipython-input-33-686d68d1b7a4>\u001b[0m in \u001b[0;36m<module>\u001b[1;34m\u001b[0m\n\u001b[0;32m      6\u001b[0m \u001b[1;31m## ¿Existe el elemento 0?\u001b[0m\u001b[1;33m\u001b[0m\u001b[1;33m\u001b[0m\u001b[1;33m\u001b[0m\u001b[0m\n\u001b[0;32m      7\u001b[0m \u001b[1;33m\u001b[0m\u001b[0m\n\u001b[1;32m----> 8\u001b[1;33m \u001b[0mA\u001b[0m\u001b[1;33m[\u001b[0m\u001b[1;36m0\u001b[0m\u001b[1;33m]\u001b[0m\u001b[1;33m\u001b[0m\u001b[1;33m\u001b[0m\u001b[0m\n\u001b[0m",
      "\u001b[1;31mIndexError\u001b[0m: list index out of range"
     ]
    }
   ],
   "source": [
    "## ¿Y si una lista no tiene elementos?\n",
    "\n",
    "## lista vacía\n",
    "A = []\n",
    "\n",
    "## ¿Existe el elemento 0?\n",
    "\n",
    "A[0]"
   ]
  },
  {
   "cell_type": "markdown",
   "metadata": {},
   "source": [
    "### ¿Cómo agregamos elementos a una lista?"
   ]
  },
  {
   "cell_type": "code",
   "execution_count": 34,
   "metadata": {},
   "outputs": [],
   "source": [
    "## comencemos con una lista vacía. Noten que este es un nuevo tipo de variable!\n",
    "lista_texto = []"
   ]
  },
  {
   "cell_type": "code",
   "execution_count": 35,
   "metadata": {},
   "outputs": [],
   "source": [
    "## manera 1: manualmente\n",
    "\n",
    "lista_texto = ['Augusta']"
   ]
  },
  {
   "cell_type": "code",
   "execution_count": 36,
   "metadata": {},
   "outputs": [
    {
     "data": {
      "text/plain": [
       "['Augusta']"
      ]
     },
     "execution_count": 36,
     "metadata": {},
     "output_type": "execute_result"
    }
   ],
   "source": [
    "lista_texto"
   ]
  },
  {
   "cell_type": "code",
   "execution_count": 42,
   "metadata": {},
   "outputs": [],
   "source": [
    "## manera 1: más elementos\n",
    "\n",
    "lista_texto = ['Augusta', 'Ada', 'King,']"
   ]
  },
  {
   "cell_type": "code",
   "execution_count": 43,
   "metadata": {},
   "outputs": [
    {
     "data": {
      "text/plain": [
       "['Augusta', 'Ada', 'King,']"
      ]
     },
     "execution_count": 43,
     "metadata": {},
     "output_type": "execute_result"
    }
   ],
   "source": [
    "lista_texto"
   ]
  },
  {
   "cell_type": "code",
   "execution_count": 37,
   "metadata": {},
   "outputs": [],
   "source": [
    "## manera 2: usamos el signo \"+\"\n",
    "\n",
    "## noten la forma en que se reasigna la variable lista_texto\n",
    "lista_texto = lista_texto + ['Ada']"
   ]
  },
  {
   "cell_type": "code",
   "execution_count": 38,
   "metadata": {},
   "outputs": [
    {
     "data": {
      "text/plain": [
       "['Augusta', 'Ada']"
      ]
     },
     "execution_count": 38,
     "metadata": {},
     "output_type": "execute_result"
    }
   ],
   "source": [
    "lista_texto"
   ]
  },
  {
   "cell_type": "code",
   "execution_count": 41,
   "metadata": {},
   "outputs": [
    {
     "ename": "TypeError",
     "evalue": "can only concatenate list (not \"str\") to list",
     "output_type": "error",
     "traceback": [
      "\u001b[1;31m---------------------------------------------------------------------------\u001b[0m",
      "\u001b[1;31mTypeError\u001b[0m                                 Traceback (most recent call last)",
      "\u001b[1;32m<ipython-input-41-bb2a14363a41>\u001b[0m in \u001b[0;36m<module>\u001b[1;34m\u001b[0m\n\u001b[0;32m      2\u001b[0m \u001b[1;33m\u001b[0m\u001b[0m\n\u001b[0;32m      3\u001b[0m \u001b[1;31m## eliminamos los paréntesis cuadrados\u001b[0m\u001b[1;33m\u001b[0m\u001b[1;33m\u001b[0m\u001b[1;33m\u001b[0m\u001b[0m\n\u001b[1;32m----> 4\u001b[1;33m \u001b[0mlista_texto\u001b[0m \u001b[1;33m=\u001b[0m \u001b[0mlista_texto\u001b[0m \u001b[1;33m+\u001b[0m \u001b[1;34m'Ada'\u001b[0m\u001b[1;33m\u001b[0m\u001b[1;33m\u001b[0m\u001b[0m\n\u001b[0m",
      "\u001b[1;31mTypeError\u001b[0m: can only concatenate list (not \"str\") to list"
     ]
    }
   ],
   "source": [
    "## ¿Por qué no simplemente lista_texto = lista_texto + 'Ada'?\n",
    "\n",
    "## eliminamos los paréntesis cuadrados\n",
    "lista_texto = lista_texto + 'Ada'"
   ]
  },
  {
   "cell_type": "code",
   "execution_count": 39,
   "metadata": {},
   "outputs": [],
   "source": [
    "## para listas muy grandes, parece que la manera 2 es la única posible\n",
    "\n",
    "## agregamos el tercer string de lista_desde_string\n",
    "lista_texto = lista_texto + ['King,']"
   ]
  },
  {
   "cell_type": "code",
   "execution_count": 40,
   "metadata": {},
   "outputs": [
    {
     "data": {
      "text/plain": [
       "['Augusta', 'Ada', 'King,']"
      ]
     },
     "execution_count": 40,
     "metadata": {},
     "output_type": "execute_result"
    }
   ],
   "source": [
    "lista_texto"
   ]
  },
  {
   "cell_type": "markdown",
   "metadata": {},
   "source": [
    "**Aspecto muy importante:** estamos agregando a una lista inicialmente vacía (lista_texto) los elementos de otra lista\n",
    "(lista_desde_texto) ¿Existirá una forma de \"recorrer\" lista_desde_texto para ir agregando palabras a lista_texto?"
   ]
  },
  {
   "cell_type": "code",
   "execution_count": 62,
   "metadata": {},
   "outputs": [],
   "source": [
    "## lista vacía donde guardaremos las palabras de lista_desde_texto\n",
    "lista_texto = []\n",
    "\n",
    "## Itere las dos celdas siguientes repetidas veces. Cada vez, cambie el valor de la variable palabra por los elementos sucesivos de \n",
    "## lista_desde_texto. Usemos los índices 0, 1, 2, ..."
   ]
  },
  {
   "cell_type": "code",
   "execution_count": 63,
   "metadata": {},
   "outputs": [
    {
     "data": {
      "text/plain": [
       "'Augusta'"
      ]
     },
     "execution_count": 63,
     "metadata": {},
     "output_type": "execute_result"
    }
   ],
   "source": [
    "## palabra que agregamos: debe ir variando los índices de forma sucesiva\n",
    "palabra = lista_desde_texto[0]\n",
    "\n",
    "## qué palabra es\n",
    "palabra"
   ]
  },
  {
   "cell_type": "code",
   "execution_count": 64,
   "metadata": {},
   "outputs": [
    {
     "data": {
      "text/plain": [
       "['Augusta']"
      ]
     },
     "execution_count": 64,
     "metadata": {},
     "output_type": "execute_result"
    }
   ],
   "source": [
    "## agregamos la nueva palabra\n",
    "\n",
    "lista_texto = lista_texto + [palabra]\n",
    "\n",
    "## vemos cómo vamos\n",
    "lista_texto"
   ]
  },
  {
   "cell_type": "code",
   "execution_count": 66,
   "metadata": {},
   "outputs": [],
   "source": [
    "## ¿Qué puede observar?"
   ]
  },
  {
   "cell_type": "markdown",
   "metadata": {},
   "source": [
    "### ¿Cuántas veces aparece un elemento de una lista?"
   ]
  },
  {
   "cell_type": "code",
   "execution_count": 47,
   "metadata": {},
   "outputs": [],
   "source": [
    "## ¿Cuántas veces aparece la preposición \"de\" en la lista lista_desde_string?\n",
    "\n",
    "## usamos .count\n",
    "numero_veces = lista_desde_texto.count('de')"
   ]
  },
  {
   "cell_type": "code",
   "execution_count": 48,
   "metadata": {},
   "outputs": [
    {
     "data": {
      "text/plain": [
       "5"
      ]
     },
     "execution_count": 48,
     "metadata": {},
     "output_type": "execute_result"
    }
   ],
   "source": [
    "numero_veces"
   ]
  },
  {
   "cell_type": "code",
   "execution_count": 68,
   "metadata": {},
   "outputs": [],
   "source": [
    "## Ahora, una pregunta un poco más general: ¿Será posible \"recorrer\" la lista lista_desde_string para contar cuantas\n",
    "## veces aparece cada palabra?\n",
    "\n",
    "## lista vacía donde guardaremos el número de veces que aparece cada palabra de lista_desde_texto\n",
    "lista_numero_veces = []\n",
    "\n",
    "## Itere las dos celdas siguientes repetidas veces. Cada vez, cambie el valor de la variable palabra por los elementos sucesivos de \n",
    "## lista_desde_texto. Usemos los índices 0, 1, 2, ..."
   ]
  },
  {
   "cell_type": "code",
   "execution_count": 73,
   "metadata": {},
   "outputs": [
    {
     "name": "stdout",
     "output_type": "stream",
     "text": [
      "Ada\n",
      "3\n"
     ]
    }
   ],
   "source": [
    "## palabra que agregamos: debe ir variando los índices de forma sucesiva\n",
    "palabra = lista_desde_texto[1]\n",
    "\n",
    "## qué palabra es\n",
    "print(palabra)\n",
    "\n",
    "## contamos usando .count\n",
    "numero_veces = lista_desde_texto.count(palabra)\n",
    "\n",
    "## cuántas veces\n",
    "print(numero_veces)"
   ]
  },
  {
   "cell_type": "code",
   "execution_count": 74,
   "metadata": {},
   "outputs": [
    {
     "data": {
      "text/plain": [
       "[2, 3]"
      ]
     },
     "execution_count": 74,
     "metadata": {},
     "output_type": "execute_result"
    }
   ],
   "source": [
    "## agregamos el número de veces\n",
    "\n",
    "lista_numero_veces = lista_numero_veces + [numero_veces]\n",
    "\n",
    "## vemos cómo vamos\n",
    "lista_numero_veces"
   ]
  },
  {
   "cell_type": "code",
   "execution_count": null,
   "metadata": {},
   "outputs": [],
   "source": []
  }
 ],
 "metadata": {
  "colab": {
   "name": "semana-1.ipynb",
   "provenance": []
  },
  "kernelspec": {
   "display_name": "Python 3",
   "language": "python",
   "name": "python3"
  },
  "language_info": {
   "codemirror_mode": {
    "name": "ipython",
    "version": 3
   },
   "file_extension": ".py",
   "mimetype": "text/x-python",
   "name": "python",
   "nbconvert_exporter": "python",
   "pygments_lexer": "ipython3",
   "version": "3.8.8"
  }
 },
 "nbformat": 4,
 "nbformat_minor": 1
}
